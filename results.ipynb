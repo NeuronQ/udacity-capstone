{
 "cells": [
  {
   "cell_type": "markdown",
   "metadata": {},
   "source": [
    "# Results"
   ]
  },
  {
   "cell_type": "code",
   "execution_count": 32,
   "metadata": {},
   "outputs": [],
   "source": [
    "##### PARAMS:\n",
    "RESULTS_5M_FILENAME = './results/btc5min_c.csv'\n",
    "RESULTS_5M_OHLC_FILENAME = './results/btc5min_ohlc.csv'\n",
    "RESULTS_5M_OHLC_DOW_FILENAME = './results/btc5min_ohlc_dow.csv'"
   ]
  },
  {
   "cell_type": "code",
   "execution_count": 3,
   "metadata": {},
   "outputs": [],
   "source": [
    "# autoreload\n",
    "%load_ext autoreload\n",
    "%autoreload 1\n",
    "# write code that works in both Python 2 (2.7+) and 3 (3.5+)\n",
    "from __future__ import absolute_import, division, print_function, unicode_literals\n",
    "try:\n",
    "    input = raw_input\n",
    "    range = xrange\n",
    "except NameError:\n",
    "    pass"
   ]
  },
  {
   "cell_type": "code",
   "execution_count": 4,
   "metadata": {},
   "outputs": [
    {
     "name": "stderr",
     "output_type": "stream",
     "text": [
      "Using TensorFlow backend.\n"
     ]
    }
   ],
   "source": [
    "import csv\n",
    "import os\n",
    "import random\n",
    "import numpy as np\n",
    "import pandas as pd\n",
    "import matplotlib.pyplot as plt\n",
    "import tensorflow as tf\n",
    "\n",
    "import keras\n",
    "from keras.layers.core import Dense, Activation, Dropout\n",
    "from keras.layers.recurrent import LSTM\n",
    "from keras.models import Sequential\n",
    "\n",
    "import pprint\n",
    "pp = pprint.PrettyPrinter(indent=2).pprint\n",
    "from IPython.display import display as dd\n",
    "from IPython.display import Image\n",
    "\n",
    "%matplotlib inline"
   ]
  },
  {
   "cell_type": "code",
   "execution_count": 5,
   "metadata": {},
   "outputs": [],
   "source": [
    "%aimport lib.helpers\n",
    "%aimport lib.etl\n",
    "%aimport lib.visualization\n",
    "%aimport lib.walk_forward_predict\n",
    "%aimport models.rnn\n",
    "%aimport models.lr\n",
    "from lib.helpers import (\n",
    "    timing, print_shapes, fix_all_rngs,\n",
    "    date_str_to_ts\n",
    ")\n",
    "from lib.visualization import simple_plot\n",
    "from lib.walk_forward_predict import (\n",
    "    run_walk_forward_validation_rnn,\n",
    "    run_walk_forward_validation_arima\n",
    ")\n",
    "import lib.etl as etl\n",
    "from models.rnn import make_rnn_model_constructor\n",
    "from models.lr import LRModel"
   ]
  },
  {
   "cell_type": "code",
   "execution_count": 26,
   "metadata": {},
   "outputs": [],
   "source": [
    "def summarize_results(filename):\n",
    "    results = pd.read_csv(filename)\n",
    "    print(\"> # rows in file %s: %d\" % (\n",
    "        filename, len(results)))\n",
    "#     dd(results.dtypes)\n",
    "#     dd(results.head())\n",
    "#     dd(results.tail())\n",
    "    results['dir_acc'] = results.dir_acc.str.replace('%', '').astype(float)\n",
    "    print(\"> whole data dir_acc mean: %.2f%%\" % results.dir_acc.mean())\n",
    "    print(\"> last 50%% dir_acc mean: %.2f%%\" % results[int(len(results) / 2):].dir_acc.mean())\n",
    "    print(\"> last 25%% dir_acc mean: %.2f%%\" % results[int(len(results) * 3 / 4):].dir_acc.mean())\n",
    "    print(\"> last 10%% dir_acc mean: %.2f%%\" % results[int(len(results) * 0.9):].dir_acc.mean())"
   ]
  },
  {
   "cell_type": "markdown",
   "metadata": {},
   "source": [
    "## Goals recap\n",
    "\n",
    "### 24 H\n",
    "\n",
    "Data at less than 2 point prediction into the future is too noisy.\n",
    "\n",
    "```\n",
    "Min acc at 7: 0.5167313590715515\n",
    "Min acc at 5: 0.5223033374369233\n",
    "Min acc at 4: 0.5277445477717878\n",
    "Min acc at 3: 0.5410135624970198\n",
    "```\n",
    "\n",
    "We might assume that a >60% at 1 day ahead accurate model has chance of driving a profitable strategy. Using 5min resolution data (see below) to calculate required accuracy for a 1 day ahead prediction could day that even >55% can be enough.\n",
    "\n",
    "Taking an average, >57.5% at one day ahead could be taken as the minimal accuracy that has a change of driving a profitable trading strategy.\n",
    "\n",
    "At 7 days ahead it might be enough to go >52%.\n",
    "\n",
    "### 5 Min\n",
    "\n",
    "* at 50 points (4.17h) ahead: >64%\n",
    "* at 75 points (6.25h) ahead: >61%\n",
    "* at 100 points (8.33h) ahead: >59%\n",
    "* at 288 points (1 day) ahead: >55%"
   ]
  },
  {
   "cell_type": "markdown",
   "metadata": {},
   "source": [
    "## 5 Min"
   ]
  },
  {
   "cell_type": "code",
   "execution_count": 27,
   "metadata": {},
   "outputs": [
    {
     "name": "stdout",
     "output_type": "stream",
     "text": [
      "> # rows in file ./results/btc5min_c.csv: 121\n",
      "> whole data dir_acc mean: 56.37%\n",
      "> last 50% dir_acc mean: 55.68%\n",
      "> last 25% dir_acc mean: 55.80%\n",
      "> last 10% dir_acc mean: 57.91%\n"
     ]
    }
   ],
   "source": [
    "summarize_results(RESULTS_5M_FILENAME)"
   ]
  },
  {
   "cell_type": "code",
   "execution_count": 30,
   "metadata": {},
   "outputs": [
    {
     "name": "stdout",
     "output_type": "stream",
     "text": [
      "> # rows in file ./results/btc5min_ohlc.csv: 120\n",
      "> whole data dir_acc mean: 46.52%\n",
      "> last 50% dir_acc mean: 43.36%\n",
      "> last 25% dir_acc mean: 42.65%\n",
      "> last 10% dir_acc mean: 45.57%\n"
     ]
    }
   ],
   "source": [
    "summarize_results(RESULTS_5M_OHLC_FILENAME)"
   ]
  },
  {
   "cell_type": "code",
   "execution_count": 34,
   "metadata": {
    "scrolled": true
   },
   "outputs": [
    {
     "name": "stdout",
     "output_type": "stream",
     "text": [
      "> # rows in file ./results/btc5min_ohlc_dow.csv: 120\n",
      "> whole data dir_acc mean: 48.40%\n",
      "> last 50% dir_acc mean: 45.27%\n",
      "> last 25% dir_acc mean: 45.92%\n",
      "> last 10% dir_acc mean: 51.92%\n"
     ]
    }
   ],
   "source": [
    "summarize_results(RESULTS_5M_OHLC_DOW_FILENAME)"
   ]
  },
  {
   "cell_type": "markdown",
   "metadata": {},
   "source": [
    "## 24 H"
   ]
  },
  {
   "cell_type": "code",
   "execution_count": null,
   "metadata": {},
   "outputs": [],
   "source": []
  }
 ],
 "metadata": {
  "kernelspec": {
   "display_name": "Python 2",
   "language": "python",
   "name": "python2"
  },
  "language_info": {
   "codemirror_mode": {
    "name": "ipython",
    "version": 2
   },
   "file_extension": ".py",
   "mimetype": "text/x-python",
   "name": "python",
   "nbconvert_exporter": "python",
   "pygments_lexer": "ipython2",
   "version": "2.7.15"
  },
  "toc": {
   "base_numbering": 1,
   "nav_menu": {},
   "number_sections": true,
   "sideBar": true,
   "skip_h1_title": false,
   "title_cell": "Table of Contents",
   "title_sidebar": "Contents",
   "toc_cell": false,
   "toc_position": {},
   "toc_section_display": true,
   "toc_window_display": false
  },
  "varInspector": {
   "cols": {
    "lenName": 16,
    "lenType": 16,
    "lenVar": 40
   },
   "kernels_config": {
    "python": {
     "delete_cmd_postfix": "",
     "delete_cmd_prefix": "del ",
     "library": "var_list.py",
     "varRefreshCmd": "print(var_dic_list())"
    },
    "r": {
     "delete_cmd_postfix": ") ",
     "delete_cmd_prefix": "rm(",
     "library": "var_list.r",
     "varRefreshCmd": "cat(var_dic_list()) "
    }
   },
   "types_to_exclude": [
    "module",
    "function",
    "builtin_function_or_method",
    "instance",
    "_Feature"
   ],
   "window_display": false
  }
 },
 "nbformat": 4,
 "nbformat_minor": 2
}
