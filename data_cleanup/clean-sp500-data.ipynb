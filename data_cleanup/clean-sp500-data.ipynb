{
 "cells": [
  {
   "cell_type": "code",
   "execution_count": 7,
   "metadata": {},
   "outputs": [],
   "source": [
    "# PARAMS:\n",
    "IN_FILENAME = '../data_src/sp500.csv'\n",
    "OUT_FILENAME = '../data_clean/sp500.csv'\n",
    "# TL;DR change params & Kernel > Restart & Run All to \"run this like a script\""
   ]
  },
  {
   "cell_type": "code",
   "execution_count": 2,
   "metadata": {},
   "outputs": [
    {
     "name": "stdout",
     "output_type": "stream",
     "text": [
      "No LSB modules are available.\n",
      "Distributor ID:\tUbuntu\n",
      "Description:\tUbuntu 18.04.1 LTS\n",
      "Release:\t18.04\n",
      "Codename:\tbionic\n",
      "/data/learn/fucap/data_cleanup\n",
      "Python 2.7.15 :: Anaconda, Inc.\n",
      "/home/neuronq/miniconda3/envs/fucap/bin/python\n"
     ]
    }
   ],
   "source": [
    "!lsb_release -a\n",
    "!pwd\n",
    "!python -V\n",
    "!which python\n",
    "# --- EXPECT:\n",
    "# No LSB modules are available.\n",
    "# Distributor ID:\tUbuntu\n",
    "# Description:\tUbuntu 18.04.1 LTS\n",
    "# Release:\t18.04\n",
    "# Codename:\tbionic\n",
    "# /data/learn/fucap/data_cleanup\n",
    "# Python 2.7.15 :: Anaconda, Inc.\n",
    "# /home/neuronq/miniconda3/envs/fucap/bin/python"
   ]
  },
  {
   "cell_type": "code",
   "execution_count": 3,
   "metadata": {},
   "outputs": [],
   "source": [
    "# autoreload\n",
    "%load_ext autoreload\n",
    "%autoreload 1\n",
    "\n",
    "# write code that works in both Python 2 (2.7+) and 3 (3.5+)\n",
    "from __future__ import absolute_import, division, print_function, unicode_literals\n",
    "try:\n",
    "    input = raw_input\n",
    "    range = xrange\n",
    "except NameError:\n",
    "    pass"
   ]
  },
  {
   "cell_type": "code",
   "execution_count": 4,
   "metadata": {},
   "outputs": [],
   "source": [
    "import os\n",
    "import sys\n",
    "from datetime import datetime\n",
    "import datetime as dtm\n",
    "import time\n",
    "\n",
    "import pandas as pd\n",
    "import numpy as np\n",
    "import matplotlib.pyplot as plt\n",
    "\n",
    "import pprint\n",
    "pp = pprint.PrettyPrinter(indent=2).pprint\n",
    "from IPython.display import display as dd\n",
    "from IPython.display import Image\n",
    "\n",
    "%matplotlib inline\n",
    "\n",
    "# add project dir to import path\n",
    "project_dir = os.path.split(os.getcwd())[0]\n",
    "if project_dir not in sys.path:\n",
    "    sys.path.append(project_dir)\n",
    "\n",
    "%aimport lib.visualization\n",
    "%aimport lib.helpers\n",
    "from lib.visualization import simple_plot\n",
    "import lib.helpers as helpers"
   ]
  },
  {
   "cell_type": "markdown",
   "metadata": {},
   "source": [
    "### Sources\n",
    "https://www.investing.com/indices/us-spx-500-historical-data\n",
    "(Same data will be returned by Bitstamp API.)"
   ]
  },
  {
   "cell_type": "code",
   "execution_count": 5,
   "metadata": {},
   "outputs": [],
   "source": [
    "def fill_missing(df, inplace=False):\n",
    "    if not inplace:\n",
    "        df = df.copy()\n",
    "\n",
    "    df['missing'] = 0\n",
    "\n",
    "    from_dt = df.index.values[0]\n",
    "    to_dt = df.index.values[-1]\n",
    "    delta = np.timedelta64(1, 'D')\n",
    "    dt = to_dt - delta\n",
    "    \n",
    "    empty = [np.nan] * len(df.columns)\n",
    "    empty[-1] = 1\n",
    "\n",
    "    while dt > from_dt:\n",
    "        if np.is_busday(dt.astype('datetime64[D]')):\n",
    "            if dt not in df.index:\n",
    "                df.loc[dt] = empty\n",
    "        dt -= delta\n",
    "    \n",
    "    df.sort_index(inplace=True)\n",
    "    \n",
    "    df.fillna(method='ffill', inplace=True)\n",
    "    \n",
    "    return df"
   ]
  },
  {
   "cell_type": "code",
   "execution_count": 8,
   "metadata": {},
   "outputs": [
    {
     "name": "stdout",
     "output_type": "stream",
     "text": [
      "> size: 933\n"
     ]
    },
    {
     "data": {
      "text/html": [
       "<div>\n",
       "<style scoped>\n",
       "    .dataframe tbody tr th:only-of-type {\n",
       "        vertical-align: middle;\n",
       "    }\n",
       "\n",
       "    .dataframe tbody tr th {\n",
       "        vertical-align: top;\n",
       "    }\n",
       "\n",
       "    .dataframe thead th {\n",
       "        text-align: right;\n",
       "    }\n",
       "</style>\n",
       "<table border=\"1\" class=\"dataframe\">\n",
       "  <thead>\n",
       "    <tr style=\"text-align: right;\">\n",
       "      <th></th>\n",
       "      <th>Date</th>\n",
       "      <th>Price</th>\n",
       "      <th>Open</th>\n",
       "      <th>High</th>\n",
       "      <th>Low</th>\n",
       "      <th>Vol.</th>\n",
       "      <th>Change %</th>\n",
       "    </tr>\n",
       "  </thead>\n",
       "  <tbody>\n",
       "    <tr>\n",
       "      <th>0</th>\n",
       "      <td>Oct 12, 2018</td>\n",
       "      <td>2,767.13</td>\n",
       "      <td>2,770.54</td>\n",
       "      <td>2,775.77</td>\n",
       "      <td>2,729.44</td>\n",
       "      <td>-</td>\n",
       "      <td>1.42%</td>\n",
       "    </tr>\n",
       "    <tr>\n",
       "      <th>1</th>\n",
       "      <td>Oct 11, 2018</td>\n",
       "      <td>2,728.37</td>\n",
       "      <td>2,776.87</td>\n",
       "      <td>2,795.14</td>\n",
       "      <td>2,710.51</td>\n",
       "      <td>-</td>\n",
       "      <td>-2.06%</td>\n",
       "    </tr>\n",
       "    <tr>\n",
       "      <th>2</th>\n",
       "      <td>Oct 10, 2018</td>\n",
       "      <td>2,785.68</td>\n",
       "      <td>2,873.90</td>\n",
       "      <td>2,874.02</td>\n",
       "      <td>2,784.86</td>\n",
       "      <td>-</td>\n",
       "      <td>-3.29%</td>\n",
       "    </tr>\n",
       "    <tr>\n",
       "      <th>3</th>\n",
       "      <td>Oct 09, 2018</td>\n",
       "      <td>2,880.34</td>\n",
       "      <td>2,882.51</td>\n",
       "      <td>2,894.83</td>\n",
       "      <td>2,874.27</td>\n",
       "      <td>-</td>\n",
       "      <td>-0.14%</td>\n",
       "    </tr>\n",
       "    <tr>\n",
       "      <th>4</th>\n",
       "      <td>Oct 08, 2018</td>\n",
       "      <td>2,884.43</td>\n",
       "      <td>2,877.53</td>\n",
       "      <td>2,889.45</td>\n",
       "      <td>2,862.08</td>\n",
       "      <td>-</td>\n",
       "      <td>-0.04%</td>\n",
       "    </tr>\n",
       "  </tbody>\n",
       "</table>\n",
       "</div>"
      ],
      "text/plain": [
       "           Date     Price      Open      High       Low Vol. Change %\n",
       "0  Oct 12, 2018  2,767.13  2,770.54  2,775.77  2,729.44    -    1.42%\n",
       "1  Oct 11, 2018  2,728.37  2,776.87  2,795.14  2,710.51    -   -2.06%\n",
       "2  Oct 10, 2018  2,785.68  2,873.90  2,874.02  2,784.86    -   -3.29%\n",
       "3  Oct 09, 2018  2,880.34  2,882.51  2,894.83  2,874.27    -   -0.14%\n",
       "4  Oct 08, 2018  2,884.43  2,877.53  2,889.45  2,862.08    -   -0.04%"
      ]
     },
     "metadata": {},
     "output_type": "display_data"
    },
    {
     "data": {
      "text/html": [
       "<div>\n",
       "<style scoped>\n",
       "    .dataframe tbody tr th:only-of-type {\n",
       "        vertical-align: middle;\n",
       "    }\n",
       "\n",
       "    .dataframe tbody tr th {\n",
       "        vertical-align: top;\n",
       "    }\n",
       "\n",
       "    .dataframe thead th {\n",
       "        text-align: right;\n",
       "    }\n",
       "</style>\n",
       "<table border=\"1\" class=\"dataframe\">\n",
       "  <thead>\n",
       "    <tr style=\"text-align: right;\">\n",
       "      <th></th>\n",
       "      <th>Date</th>\n",
       "      <th>Price</th>\n",
       "      <th>Open</th>\n",
       "      <th>High</th>\n",
       "      <th>Low</th>\n",
       "      <th>Vol.</th>\n",
       "      <th>Change %</th>\n",
       "    </tr>\n",
       "  </thead>\n",
       "  <tbody>\n",
       "    <tr>\n",
       "      <th>928</th>\n",
       "      <td>Feb 06, 2015</td>\n",
       "      <td>2,055.47</td>\n",
       "      <td>2,062.28</td>\n",
       "      <td>2,072.40</td>\n",
       "      <td>2,049.97</td>\n",
       "      <td>-</td>\n",
       "      <td>-0.34%</td>\n",
       "    </tr>\n",
       "    <tr>\n",
       "      <th>929</th>\n",
       "      <td>Feb 05, 2015</td>\n",
       "      <td>2,062.52</td>\n",
       "      <td>2,043.45</td>\n",
       "      <td>2,063.55</td>\n",
       "      <td>2,043.45</td>\n",
       "      <td>-</td>\n",
       "      <td>1.03%</td>\n",
       "    </tr>\n",
       "    <tr>\n",
       "      <th>930</th>\n",
       "      <td>Feb 04, 2015</td>\n",
       "      <td>2,041.51</td>\n",
       "      <td>2,048.86</td>\n",
       "      <td>2,054.74</td>\n",
       "      <td>2,036.72</td>\n",
       "      <td>-</td>\n",
       "      <td>-0.42%</td>\n",
       "    </tr>\n",
       "    <tr>\n",
       "      <th>931</th>\n",
       "      <td>Feb 03, 2015</td>\n",
       "      <td>2,050.03</td>\n",
       "      <td>2,022.71</td>\n",
       "      <td>2,050.30</td>\n",
       "      <td>2,022.71</td>\n",
       "      <td>-</td>\n",
       "      <td>1.44%</td>\n",
       "    </tr>\n",
       "    <tr>\n",
       "      <th>932</th>\n",
       "      <td>Feb 02, 2015</td>\n",
       "      <td>2,020.85</td>\n",
       "      <td>1,996.67</td>\n",
       "      <td>2,021.66</td>\n",
       "      <td>1,980.90</td>\n",
       "      <td>-</td>\n",
       "      <td>1.30%</td>\n",
       "    </tr>\n",
       "  </tbody>\n",
       "</table>\n",
       "</div>"
      ],
      "text/plain": [
       "             Date     Price      Open      High       Low Vol. Change %\n",
       "928  Feb 06, 2015  2,055.47  2,062.28  2,072.40  2,049.97    -   -0.34%\n",
       "929  Feb 05, 2015  2,062.52  2,043.45  2,063.55  2,043.45    -    1.03%\n",
       "930  Feb 04, 2015  2,041.51  2,048.86  2,054.74  2,036.72    -   -0.42%\n",
       "931  Feb 03, 2015  2,050.03  2,022.71  2,050.30  2,022.71    -    1.44%\n",
       "932  Feb 02, 2015  2,020.85  1,996.67  2,021.66  1,980.90    -    1.30%"
      ]
     },
     "metadata": {},
     "output_type": "display_data"
    }
   ],
   "source": [
    "data = pd.read_csv(IN_FILENAME)\n",
    "print('> size:', len(data))\n",
    "dd(data.head())\n",
    "dd(data.tail())"
   ]
  },
  {
   "cell_type": "code",
   "execution_count": 10,
   "metadata": {},
   "outputs": [
    {
     "data": {
      "text/html": [
       "<div>\n",
       "<style scoped>\n",
       "    .dataframe tbody tr th:only-of-type {\n",
       "        vertical-align: middle;\n",
       "    }\n",
       "\n",
       "    .dataframe tbody tr th {\n",
       "        vertical-align: top;\n",
       "    }\n",
       "\n",
       "    .dataframe thead th {\n",
       "        text-align: right;\n",
       "    }\n",
       "</style>\n",
       "<table border=\"1\" class=\"dataframe\">\n",
       "  <thead>\n",
       "    <tr style=\"text-align: right;\">\n",
       "      <th></th>\n",
       "      <th>Price</th>\n",
       "      <th>Open</th>\n",
       "      <th>High</th>\n",
       "      <th>Low</th>\n",
       "      <th>Vol.</th>\n",
       "      <th>Change %</th>\n",
       "    </tr>\n",
       "    <tr>\n",
       "      <th>datetime</th>\n",
       "      <th></th>\n",
       "      <th></th>\n",
       "      <th></th>\n",
       "      <th></th>\n",
       "      <th></th>\n",
       "      <th></th>\n",
       "    </tr>\n",
       "  </thead>\n",
       "  <tbody>\n",
       "    <tr>\n",
       "      <th>2018-10-12</th>\n",
       "      <td>2,767.13</td>\n",
       "      <td>2,770.54</td>\n",
       "      <td>2,775.77</td>\n",
       "      <td>2,729.44</td>\n",
       "      <td>-</td>\n",
       "      <td>1.42%</td>\n",
       "    </tr>\n",
       "    <tr>\n",
       "      <th>2018-10-11</th>\n",
       "      <td>2,728.37</td>\n",
       "      <td>2,776.87</td>\n",
       "      <td>2,795.14</td>\n",
       "      <td>2,710.51</td>\n",
       "      <td>-</td>\n",
       "      <td>-2.06%</td>\n",
       "    </tr>\n",
       "  </tbody>\n",
       "</table>\n",
       "</div>"
      ],
      "text/plain": [
       "               Price      Open      High       Low Vol. Change %\n",
       "datetime                                                        \n",
       "2018-10-12  2,767.13  2,770.54  2,775.77  2,729.44    -    1.42%\n",
       "2018-10-11  2,728.37  2,776.87  2,795.14  2,710.51    -   -2.06%"
      ]
     },
     "execution_count": 10,
     "metadata": {},
     "output_type": "execute_result"
    }
   ],
   "source": [
    "data['datetime'] = pd.to_datetime(data['Date'])\n",
    "data.set_index('datetime', inplace=True)\n",
    "data.drop(['Date'], axis=1, inplace=True)\n",
    "data.head(2)"
   ]
  },
  {
   "cell_type": "code",
   "execution_count": 11,
   "metadata": {},
   "outputs": [
    {
     "data": {
      "text/html": [
       "<div>\n",
       "<style scoped>\n",
       "    .dataframe tbody tr th:only-of-type {\n",
       "        vertical-align: middle;\n",
       "    }\n",
       "\n",
       "    .dataframe tbody tr th {\n",
       "        vertical-align: top;\n",
       "    }\n",
       "\n",
       "    .dataframe thead th {\n",
       "        text-align: right;\n",
       "    }\n",
       "</style>\n",
       "<table border=\"1\" class=\"dataframe\">\n",
       "  <thead>\n",
       "    <tr style=\"text-align: right;\">\n",
       "      <th></th>\n",
       "      <th>close</th>\n",
       "      <th>open</th>\n",
       "      <th>high</th>\n",
       "      <th>low</th>\n",
       "      <th>volume</th>\n",
       "    </tr>\n",
       "    <tr>\n",
       "      <th>datetime</th>\n",
       "      <th></th>\n",
       "      <th></th>\n",
       "      <th></th>\n",
       "      <th></th>\n",
       "      <th></th>\n",
       "    </tr>\n",
       "  </thead>\n",
       "  <tbody>\n",
       "    <tr>\n",
       "      <th>2018-10-12</th>\n",
       "      <td>2,767.13</td>\n",
       "      <td>2,770.54</td>\n",
       "      <td>2,775.77</td>\n",
       "      <td>2,729.44</td>\n",
       "      <td>-</td>\n",
       "    </tr>\n",
       "    <tr>\n",
       "      <th>2018-10-11</th>\n",
       "      <td>2,728.37</td>\n",
       "      <td>2,776.87</td>\n",
       "      <td>2,795.14</td>\n",
       "      <td>2,710.51</td>\n",
       "      <td>-</td>\n",
       "    </tr>\n",
       "  </tbody>\n",
       "</table>\n",
       "</div>"
      ],
      "text/plain": [
       "               close      open      high       low volume\n",
       "datetime                                                 \n",
       "2018-10-12  2,767.13  2,770.54  2,775.77  2,729.44      -\n",
       "2018-10-11  2,728.37  2,776.87  2,795.14  2,710.51      -"
      ]
     },
     "execution_count": 11,
     "metadata": {},
     "output_type": "execute_result"
    }
   ],
   "source": [
    "data.rename(str.lower, axis='columns', inplace=True)\n",
    "data.rename({'price': 'close', 'vol.': 'volume'}, axis='columns', inplace=True)\n",
    "data.drop(['change %'], axis=1, inplace=True)\n",
    "data.head(2)"
   ]
  },
  {
   "cell_type": "code",
   "execution_count": 12,
   "metadata": {},
   "outputs": [
    {
     "data": {
      "text/html": [
       "<div>\n",
       "<style scoped>\n",
       "    .dataframe tbody tr th:only-of-type {\n",
       "        vertical-align: middle;\n",
       "    }\n",
       "\n",
       "    .dataframe tbody tr th {\n",
       "        vertical-align: top;\n",
       "    }\n",
       "\n",
       "    .dataframe thead th {\n",
       "        text-align: right;\n",
       "    }\n",
       "</style>\n",
       "<table border=\"1\" class=\"dataframe\">\n",
       "  <thead>\n",
       "    <tr style=\"text-align: right;\">\n",
       "      <th></th>\n",
       "      <th>close</th>\n",
       "      <th>open</th>\n",
       "      <th>high</th>\n",
       "      <th>low</th>\n",
       "      <th>volume</th>\n",
       "    </tr>\n",
       "    <tr>\n",
       "      <th>datetime</th>\n",
       "      <th></th>\n",
       "      <th></th>\n",
       "      <th></th>\n",
       "      <th></th>\n",
       "      <th></th>\n",
       "    </tr>\n",
       "  </thead>\n",
       "  <tbody>\n",
       "    <tr>\n",
       "      <th>2018-10-12</th>\n",
       "      <td>2,767.13</td>\n",
       "      <td>2,770.54</td>\n",
       "      <td>2,775.77</td>\n",
       "      <td>2,729.44</td>\n",
       "      <td>NaN</td>\n",
       "    </tr>\n",
       "    <tr>\n",
       "      <th>2018-10-11</th>\n",
       "      <td>2,728.37</td>\n",
       "      <td>2,776.87</td>\n",
       "      <td>2,795.14</td>\n",
       "      <td>2,710.51</td>\n",
       "      <td>NaN</td>\n",
       "    </tr>\n",
       "  </tbody>\n",
       "</table>\n",
       "</div>"
      ],
      "text/plain": [
       "               close      open      high       low  volume\n",
       "datetime                                                  \n",
       "2018-10-12  2,767.13  2,770.54  2,775.77  2,729.44     NaN\n",
       "2018-10-11  2,728.37  2,776.87  2,795.14  2,710.51     NaN"
      ]
     },
     "metadata": {},
     "output_type": "display_data"
    },
    {
     "data": {
      "text/plain": [
       "close      object\n",
       "open       object\n",
       "high       object\n",
       "low        object\n",
       "volume    float64\n",
       "dtype: object"
      ]
     },
     "execution_count": 12,
     "metadata": {},
     "output_type": "execute_result"
    }
   ],
   "source": [
    "data['volume'] = data['volume'].str.replace('K', '').replace('-', 'nan').astype(float)\n",
    "dd(data.head(2))\n",
    "data.dtypes"
   ]
  },
  {
   "cell_type": "code",
   "execution_count": 13,
   "metadata": {},
   "outputs": [],
   "source": [
    "data['close'] = data['close'].str.replace(',', '').astype(float)"
   ]
  },
  {
   "cell_type": "code",
   "execution_count": 14,
   "metadata": {},
   "outputs": [],
   "source": [
    "data['open'] = data['open'].str.replace(',', '').astype(float)"
   ]
  },
  {
   "cell_type": "code",
   "execution_count": 15,
   "metadata": {},
   "outputs": [],
   "source": [
    "data['high'] = data['high'].str.replace(',', '').astype(float)"
   ]
  },
  {
   "cell_type": "code",
   "execution_count": 16,
   "metadata": {},
   "outputs": [],
   "source": [
    "data['low'] = data['low'].str.replace(',', '').astype(float)"
   ]
  },
  {
   "cell_type": "code",
   "execution_count": 17,
   "metadata": {},
   "outputs": [
    {
     "data": {
      "text/plain": [
       "close     float64\n",
       "open      float64\n",
       "high      float64\n",
       "low       float64\n",
       "volume    float64\n",
       "dtype: object"
      ]
     },
     "execution_count": 17,
     "metadata": {},
     "output_type": "execute_result"
    }
   ],
   "source": [
    "data.dtypes"
   ]
  },
  {
   "cell_type": "code",
   "execution_count": 18,
   "metadata": {},
   "outputs": [
    {
     "data": {
      "text/html": [
       "<div>\n",
       "<style scoped>\n",
       "    .dataframe tbody tr th:only-of-type {\n",
       "        vertical-align: middle;\n",
       "    }\n",
       "\n",
       "    .dataframe tbody tr th {\n",
       "        vertical-align: top;\n",
       "    }\n",
       "\n",
       "    .dataframe thead th {\n",
       "        text-align: right;\n",
       "    }\n",
       "</style>\n",
       "<table border=\"1\" class=\"dataframe\">\n",
       "  <thead>\n",
       "    <tr style=\"text-align: right;\">\n",
       "      <th></th>\n",
       "      <th>close</th>\n",
       "      <th>open</th>\n",
       "      <th>high</th>\n",
       "      <th>low</th>\n",
       "      <th>volume</th>\n",
       "    </tr>\n",
       "    <tr>\n",
       "      <th>datetime</th>\n",
       "      <th></th>\n",
       "      <th></th>\n",
       "      <th></th>\n",
       "      <th></th>\n",
       "      <th></th>\n",
       "    </tr>\n",
       "  </thead>\n",
       "  <tbody>\n",
       "    <tr>\n",
       "      <th>2018-10-12</th>\n",
       "      <td>2767.13</td>\n",
       "      <td>2770.54</td>\n",
       "      <td>2775.77</td>\n",
       "      <td>2729.44</td>\n",
       "      <td>NaN</td>\n",
       "    </tr>\n",
       "    <tr>\n",
       "      <th>2018-10-11</th>\n",
       "      <td>2728.37</td>\n",
       "      <td>2776.87</td>\n",
       "      <td>2795.14</td>\n",
       "      <td>2710.51</td>\n",
       "      <td>NaN</td>\n",
       "    </tr>\n",
       "  </tbody>\n",
       "</table>\n",
       "</div>"
      ],
      "text/plain": [
       "              close     open     high      low  volume\n",
       "datetime                                              \n",
       "2018-10-12  2767.13  2770.54  2775.77  2729.44     NaN\n",
       "2018-10-11  2728.37  2776.87  2795.14  2710.51     NaN"
      ]
     },
     "execution_count": 18,
     "metadata": {},
     "output_type": "execute_result"
    }
   ],
   "source": [
    "data.head(2)"
   ]
  },
  {
   "cell_type": "code",
   "execution_count": 19,
   "metadata": {},
   "outputs": [
    {
     "name": "stdout",
     "output_type": "stream",
     "text": [
      "Missing: 0\n"
     ]
    }
   ],
   "source": [
    "fill_missing(data, inplace=True)\n",
    "print('Missing:', int(data['missing'].sum()))\n",
    "# EXPECT: Missing: 0"
   ]
  },
  {
   "cell_type": "code",
   "execution_count": 20,
   "metadata": {},
   "outputs": [
    {
     "data": {
      "image/png": "[encoded data removed]",
      "text/plain": [
       "<Figure size 720x216 with 1 Axes>"
      ]
     },
     "metadata": {},
     "output_type": "display_data"
    }
   ],
   "source": [
    "simple_plot(data, show_xlabels=False)"
   ]
  },
  {
   "cell_type": "code",
   "execution_count": 21,
   "metadata": {},
   "outputs": [
    {
     "name": "stdout",
     "output_type": "stream",
     "text": [
      "--- Last 6 M:\n"
     ]
    },
    {
     "data": {
      "image/png": "[encoded data removed]",
      "text/plain": [
       "<Figure size 720x216 with 1 Axes>"
      ]
     },
     "metadata": {},
     "output_type": "display_data"
    }
   ],
   "source": [
    "print('--- Last 6 M:')\n",
    "simple_plot(\n",
    "    data[datetime.today() - dtm.timedelta(days=6 * 30):],\n",
    "    show_xlabels=False)"
   ]
  },
  {
   "cell_type": "code",
   "execution_count": 22,
   "metadata": {},
   "outputs": [],
   "source": [
    "data.to_csv(OUT_FILENAME)"
   ]
  }
 ],
 "metadata": {
  "kernelspec": {
   "display_name": "Python 2",
   "language": "python",
   "name": "python2"
  },
  "language_info": {
   "codemirror_mode": {
    "name": "ipython",
    "version": 2
   },
   "file_extension": ".py",
   "mimetype": "text/x-python",
   "name": "python",
   "nbconvert_exporter": "python",
   "pygments_lexer": "ipython2",
   "version": "2.7.15"
  }
 },
 "nbformat": 4,
 "nbformat_minor": 2
}
