{
 "cells": [
  {
   "cell_type": "code",
   "execution_count": 1,
   "metadata": {
    "ExecuteTime": {
     "end_time": "2018-11-01T22:26:20.050708Z",
     "start_time": "2018-11-01T22:26:20.037976Z"
    }
   },
   "outputs": [],
   "source": [
    "# PARAMS:\n",
    "IN_FILENAME = '../data_src/abcnews-date-text.csv'\n",
    "OUT_FILENAME = '../data_clean/abcnews-date-text.csv'\n",
    "# TL;DR change params & Kernel > Restart & Run All to \"run this like a script\""
   ]
  },
  {
   "cell_type": "code",
   "execution_count": 2,
   "metadata": {
    "ExecuteTime": {
     "end_time": "2018-11-01T22:26:22.070448Z",
     "start_time": "2018-11-01T22:26:21.506777Z"
    }
   },
   "outputs": [
    {
     "name": "stdout",
     "output_type": "stream",
     "text": [
      "No LSB modules are available.\n",
      "Distributor ID:\tUbuntu\n",
      "Description:\tUbuntu 18.04.1 LTS\n",
      "Release:\t18.04\n",
      "Codename:\tbionic\n",
      "/data/learn/fucap/data_cleanup\n",
      "Python 2.7.15 :: Anaconda, Inc.\n",
      "/home/neuronq/miniconda3/envs/fucap/bin/python\n"
     ]
    }
   ],
   "source": [
    "!lsb_release -a\n",
    "!pwd\n",
    "!python -V\n",
    "!which python\n",
    "# --- EXPECT:\n",
    "# No LSB modules are available.\n",
    "# Distributor ID:\tUbuntu\n",
    "# Description:\tUbuntu 18.04.1 LTS\n",
    "# Release:\t18.04\n",
    "# Codename:\tbionic\n",
    "# /data/learn/fucap/data_cleanup\n",
    "# Python 2.7.15 :: Anaconda, Inc.\n",
    "# /home/neuronq/miniconda3/envs/fucap/bin/python"
   ]
  },
  {
   "cell_type": "code",
   "execution_count": 3,
   "metadata": {
    "ExecuteTime": {
     "end_time": "2018-11-01T22:26:23.393847Z",
     "start_time": "2018-11-01T22:26:23.370990Z"
    }
   },
   "outputs": [],
   "source": [
    "# autoreload\n",
    "%load_ext autoreload\n",
    "%autoreload 1\n",
    "\n",
    "# write code that works in both Python 2 (2.7+) and 3 (3.5+)\n",
    "from __future__ import absolute_import, division, print_function, unicode_literals\n",
    "try:\n",
    "    input = raw_input\n",
    "    range = xrange\n",
    "except NameError:\n",
    "    pass"
   ]
  },
  {
   "cell_type": "code",
   "execution_count": 4,
   "metadata": {
    "ExecuteTime": {
     "end_time": "2018-11-01T22:26:24.884286Z",
     "start_time": "2018-11-01T22:26:23.823322Z"
    }
   },
   "outputs": [],
   "source": [
    "import os\n",
    "import sys\n",
    "from datetime import datetime\n",
    "import datetime as dtm\n",
    "import time\n",
    "import re\n",
    "\n",
    "import pandas as pd\n",
    "import numpy as np\n",
    "import matplotlib.pyplot as plt\n",
    "\n",
    "import pprint\n",
    "pp = pprint.PrettyPrinter(indent=2).pprint\n",
    "from IPython.display import display as dd\n",
    "from IPython.display import Image\n",
    "\n",
    "%matplotlib inline\n",
    "\n",
    "# add project dir to import path\n",
    "project_dir = os.path.split(os.getcwd())[0]\n",
    "if project_dir not in sys.path:\n",
    "    sys.path.append(project_dir)\n",
    "\n",
    "%aimport lib.visualization\n",
    "%aimport lib.helpers\n",
    "from lib.visualization import simple_plot\n",
    "import lib.helpers as helpers\n",
    "\n",
    "np.set_printoptions(threshold=1000)  # 'nan' == all\n",
    "pd.set_option('display.max_rows', 1000)"
   ]
  },
  {
   "cell_type": "markdown",
   "metadata": {},
   "source": [
    "### Sources\n",
    "https://www.kaggle.com/therohk/million-headlines/version/6"
   ]
  },
  {
   "cell_type": "markdown",
   "metadata": {},
   "source": [
    "# /\n",
    "---"
   ]
  },
  {
   "cell_type": "code",
   "execution_count": 8,
   "metadata": {
    "ExecuteTime": {
     "end_time": "2018-11-01T22:26:44.948374Z",
     "start_time": "2018-11-01T22:26:44.934524Z"
    }
   },
   "outputs": [],
   "source": [
    "def fill_missing(df, inplace=False):\n",
    "    if not inplace:\n",
    "        df = df.copy()\n",
    "\n",
    "    df['missing'] = 0\n",
    "\n",
    "    from_dt = df.index.values[0]\n",
    "    to_dt = df.index.values[-1]\n",
    "    delta = np.timedelta64(1, 'D')\n",
    "    dt = to_dt - delta\n",
    "    \n",
    "    empty = [np.nan] * len(df.columns)\n",
    "    empty[-1] = 1\n",
    "\n",
    "    while dt > from_dt:\n",
    "        if dt not in df.index:\n",
    "            df.loc[dt] = empty\n",
    "        dt -= delta\n",
    "    \n",
    "    df.sort_index(inplace=True)\n",
    "    \n",
    "    df.fillna(method='ffill', inplace=True)\n",
    "    \n",
    "    return df"
   ]
  },
  {
   "cell_type": "code",
   "execution_count": 9,
   "metadata": {
    "ExecuteTime": {
     "end_time": "2018-11-01T22:26:47.278283Z",
     "start_time": "2018-11-01T22:26:46.337588Z"
    }
   },
   "outputs": [
    {
     "name": "stdout",
     "output_type": "stream",
     "text": [
      "> size: 1103665\n"
     ]
    },
    {
     "data": {
      "text/plain": [
       "publish_date      int64\n",
       "headline_text    object\n",
       "dtype: object"
      ]
     },
     "metadata": {},
     "output_type": "display_data"
    },
    {
     "data": {
      "text/html": [
       "<div>\n",
       "<style scoped>\n",
       "    .dataframe tbody tr th:only-of-type {\n",
       "        vertical-align: middle;\n",
       "    }\n",
       "\n",
       "    .dataframe tbody tr th {\n",
       "        vertical-align: top;\n",
       "    }\n",
       "\n",
       "    .dataframe thead th {\n",
       "        text-align: right;\n",
       "    }\n",
       "</style>\n",
       "<table border=\"1\" class=\"dataframe\">\n",
       "  <thead>\n",
       "    <tr style=\"text-align: right;\">\n",
       "      <th></th>\n",
       "      <th>publish_date</th>\n",
       "      <th>headline_text</th>\n",
       "    </tr>\n",
       "  </thead>\n",
       "  <tbody>\n",
       "    <tr>\n",
       "      <th>0</th>\n",
       "      <td>20030219</td>\n",
       "      <td>aba decides against community broadcasting lic...</td>\n",
       "    </tr>\n",
       "    <tr>\n",
       "      <th>1</th>\n",
       "      <td>20030219</td>\n",
       "      <td>act fire witnesses must be aware of defamation</td>\n",
       "    </tr>\n",
       "    <tr>\n",
       "      <th>2</th>\n",
       "      <td>20030219</td>\n",
       "      <td>a g calls for infrastructure protection summit</td>\n",
       "    </tr>\n",
       "    <tr>\n",
       "      <th>3</th>\n",
       "      <td>20030219</td>\n",
       "      <td>air nz staff in aust strike for pay rise</td>\n",
       "    </tr>\n",
       "    <tr>\n",
       "      <th>4</th>\n",
       "      <td>20030219</td>\n",
       "      <td>air nz strike to affect australian travellers</td>\n",
       "    </tr>\n",
       "  </tbody>\n",
       "</table>\n",
       "</div>"
      ],
      "text/plain": [
       "   publish_date                                      headline_text\n",
       "0      20030219  aba decides against community broadcasting lic...\n",
       "1      20030219     act fire witnesses must be aware of defamation\n",
       "2      20030219     a g calls for infrastructure protection summit\n",
       "3      20030219           air nz staff in aust strike for pay rise\n",
       "4      20030219      air nz strike to affect australian travellers"
      ]
     },
     "metadata": {},
     "output_type": "display_data"
    },
    {
     "data": {
      "text/html": [
       "<div>\n",
       "<style scoped>\n",
       "    .dataframe tbody tr th:only-of-type {\n",
       "        vertical-align: middle;\n",
       "    }\n",
       "\n",
       "    .dataframe tbody tr th {\n",
       "        vertical-align: top;\n",
       "    }\n",
       "\n",
       "    .dataframe thead th {\n",
       "        text-align: right;\n",
       "    }\n",
       "</style>\n",
       "<table border=\"1\" class=\"dataframe\">\n",
       "  <thead>\n",
       "    <tr style=\"text-align: right;\">\n",
       "      <th></th>\n",
       "      <th>publish_date</th>\n",
       "      <th>headline_text</th>\n",
       "    </tr>\n",
       "  </thead>\n",
       "  <tbody>\n",
       "    <tr>\n",
       "      <th>1103660</th>\n",
       "      <td>20171231</td>\n",
       "      <td>the ashes smiths warners near miss liven up bo...</td>\n",
       "    </tr>\n",
       "    <tr>\n",
       "      <th>1103661</th>\n",
       "      <td>20171231</td>\n",
       "      <td>timelapse: brisbanes new year fireworks</td>\n",
       "    </tr>\n",
       "    <tr>\n",
       "      <th>1103662</th>\n",
       "      <td>20171231</td>\n",
       "      <td>what 2017 meant to the kids of australia</td>\n",
       "    </tr>\n",
       "    <tr>\n",
       "      <th>1103663</th>\n",
       "      <td>20171231</td>\n",
       "      <td>what the papodopoulos meeting may mean for ausus</td>\n",
       "    </tr>\n",
       "    <tr>\n",
       "      <th>1103664</th>\n",
       "      <td>20171231</td>\n",
       "      <td>who is george papadopoulos the former trump ca...</td>\n",
       "    </tr>\n",
       "  </tbody>\n",
       "</table>\n",
       "</div>"
      ],
      "text/plain": [
       "         publish_date                                      headline_text\n",
       "1103660      20171231  the ashes smiths warners near miss liven up bo...\n",
       "1103661      20171231            timelapse: brisbanes new year fireworks\n",
       "1103662      20171231           what 2017 meant to the kids of australia\n",
       "1103663      20171231   what the papodopoulos meeting may mean for ausus\n",
       "1103664      20171231  who is george papadopoulos the former trump ca..."
      ]
     },
     "metadata": {},
     "output_type": "display_data"
    }
   ],
   "source": [
    "data = pd.read_csv(IN_FILENAME)\n",
    "print('> size:', len(data))\n",
    "dd(data.dtypes)\n",
    "dd(data.head())\n",
    "dd(data.tail())"
   ]
  },
  {
   "cell_type": "code",
   "execution_count": 10,
   "metadata": {
    "ExecuteTime": {
     "end_time": "2018-11-01T22:26:52.072086Z",
     "start_time": "2018-11-01T22:26:51.494913Z"
    }
   },
   "outputs": [
    {
     "data": {
      "text/plain": [
       "headline_text    object\n",
       "dtype: object"
      ]
     },
     "metadata": {},
     "output_type": "display_data"
    },
    {
     "data": {
      "text/html": [
       "<div>\n",
       "<style scoped>\n",
       "    .dataframe tbody tr th:only-of-type {\n",
       "        vertical-align: middle;\n",
       "    }\n",
       "\n",
       "    .dataframe tbody tr th {\n",
       "        vertical-align: top;\n",
       "    }\n",
       "\n",
       "    .dataframe thead th {\n",
       "        text-align: right;\n",
       "    }\n",
       "</style>\n",
       "<table border=\"1\" class=\"dataframe\">\n",
       "  <thead>\n",
       "    <tr style=\"text-align: right;\">\n",
       "      <th></th>\n",
       "      <th>headline_text</th>\n",
       "    </tr>\n",
       "    <tr>\n",
       "      <th>datetime</th>\n",
       "      <th></th>\n",
       "    </tr>\n",
       "  </thead>\n",
       "  <tbody>\n",
       "    <tr>\n",
       "      <th>2003-02-19</th>\n",
       "      <td>aba decides against community broadcasting lic...</td>\n",
       "    </tr>\n",
       "    <tr>\n",
       "      <th>2003-02-19</th>\n",
       "      <td>act fire witnesses must be aware of defamation</td>\n",
       "    </tr>\n",
       "  </tbody>\n",
       "</table>\n",
       "</div>"
      ],
      "text/plain": [
       "                                                headline_text\n",
       "datetime                                                     \n",
       "2003-02-19  aba decides against community broadcasting lic...\n",
       "2003-02-19     act fire witnesses must be aware of defamation"
      ]
     },
     "metadata": {},
     "output_type": "display_data"
    }
   ],
   "source": [
    "data['datetime'] = pd.to_datetime(data['publish_date'].astype(str))\n",
    "data.drop(['publish_date'], axis=1, inplace=True)\n",
    "data.set_index('datetime', inplace=True)\n",
    "dd(data.dtypes)\n",
    "dd(data.head(2))"
   ]
  },
  {
   "cell_type": "code",
   "execution_count": 12,
   "metadata": {
    "ExecuteTime": {
     "end_time": "2018-11-01T22:27:37.338624Z",
     "start_time": "2018-11-01T22:27:37.300902Z"
    }
   },
   "outputs": [
    {
     "data": {
      "text/plain": [
       "(173372, 1)"
      ]
     },
     "execution_count": 12,
     "metadata": {},
     "output_type": "execute_result"
    }
   ],
   "source": [
    "data[data.index >= '2015-02-01'].shape"
   ]
  },
  {
   "cell_type": "code",
   "execution_count": 13,
   "metadata": {
    "ExecuteTime": {
     "end_time": "2018-11-01T22:28:30.873140Z",
     "start_time": "2018-11-01T22:28:30.853895Z"
    }
   },
   "outputs": [
    {
     "data": {
      "text/plain": [
       "headline_text    who is george papadopoulos the former trump ca...\n",
       "Name: 2017-12-31 00:00:00, dtype: object"
      ]
     },
     "execution_count": 13,
     "metadata": {},
     "output_type": "execute_result"
    }
   ],
   "source": [
    "data.iloc[-1]"
   ]
  },
  {
   "cell_type": "code",
   "execution_count": 7,
   "metadata": {
    "ExecuteTime": {
     "end_time": "2018-11-01T22:26:38.764486Z",
     "start_time": "2018-11-01T22:26:35.624446Z"
    }
   },
   "outputs": [
    {
     "name": "stderr",
     "output_type": "stream",
     "text": [
      "/home/neuronq/miniconda3/envs/fucap/lib/python2.7/site-packages/ipykernel_launcher.py:9: UserWarning: This pattern has match groups. To actually get the groups, use str.extract.\n",
      "  if __name__ == '__main__':\n"
     ]
    },
    {
     "name": "stdout",
     "output_type": "stream",
     "text": [
      "> size after filter: 79\n"
     ]
    },
    {
     "data": {
      "text/html": [
       "<div>\n",
       "<style scoped>\n",
       "    .dataframe tbody tr th:only-of-type {\n",
       "        vertical-align: middle;\n",
       "    }\n",
       "\n",
       "    .dataframe tbody tr th {\n",
       "        vertical-align: top;\n",
       "    }\n",
       "\n",
       "    .dataframe thead th {\n",
       "        text-align: right;\n",
       "    }\n",
       "</style>\n",
       "<table border=\"1\" class=\"dataframe\">\n",
       "  <thead>\n",
       "    <tr style=\"text-align: right;\">\n",
       "      <th></th>\n",
       "      <th>headline_text</th>\n",
       "    </tr>\n",
       "    <tr>\n",
       "      <th>datetime</th>\n",
       "      <th></th>\n",
       "    </tr>\n",
       "  </thead>\n",
       "  <tbody>\n",
       "    <tr>\n",
       "      <th>2011-05-14</th>\n",
       "      <td>race call btc cup doomben</td>\n",
       "    </tr>\n",
       "    <tr>\n",
       "      <th>2012-05-09</th>\n",
       "      <td>bufferings hopes slump after btc cup draw</td>\n",
       "    </tr>\n",
       "    <tr>\n",
       "      <th>2013-04-17</th>\n",
       "      <td>kohler value bitcoin gold</td>\n",
       "    </tr>\n",
       "    <tr>\n",
       "      <th>2013-05-11</th>\n",
       "      <td>cummings colt on song in btc cup</td>\n",
       "    </tr>\n",
       "    <tr>\n",
       "      <th>2013-10-26</th>\n",
       "      <td>us seizes bitcoins from man linked to silk road</td>\n",
       "    </tr>\n",
       "  </tbody>\n",
       "</table>\n",
       "</div>"
      ],
      "text/plain": [
       "                                              headline_text\n",
       "datetime                                                   \n",
       "2011-05-14                        race call btc cup doomben\n",
       "2012-05-09        bufferings hopes slump after btc cup draw\n",
       "2013-04-17                        kohler value bitcoin gold\n",
       "2013-05-11                 cummings colt on song in btc cup\n",
       "2013-10-26  us seizes bitcoins from man linked to silk road"
      ]
     },
     "metadata": {},
     "output_type": "display_data"
    }
   ],
   "source": [
    "patts = [\n",
    "    r'\\bbit[\\s-]*coin',\n",
    "    r'blocks?[\\s-]*chain',\n",
    "    r'(digital|electronic|\\be|crypto)[\\s-]*(currenc|coin|cash)'\n",
    "    r'ethereum',\n",
    "    r'\\bbtc',\n",
    "    r'\\beth\\b',\n",
    "]\n",
    "data = data[data['headline_text'].str.contains('|'.join(patts))]\n",
    "print('> size after filter:', len(data))\n",
    "dd(data.head())"
   ]
  },
  {
   "cell_type": "code",
   "execution_count": 13,
   "metadata": {},
   "outputs": [],
   "source": [
    "data.to_csv(OUT_FILENAME)"
   ]
  }
 ],
 "metadata": {
  "kernelspec": {
   "display_name": "Python 2",
   "language": "python",
   "name": "python2"
  },
  "language_info": {
   "codemirror_mode": {
    "name": "ipython",
    "version": 2
   },
   "file_extension": ".py",
   "mimetype": "text/x-python",
   "name": "python",
   "nbconvert_exporter": "python",
   "pygments_lexer": "ipython2",
   "version": "2.7.15"
  },
  "toc": {
   "base_numbering": 1,
   "nav_menu": {},
   "number_sections": true,
   "sideBar": true,
   "skip_h1_title": false,
   "title_cell": "Table of Contents",
   "title_sidebar": "Contents",
   "toc_cell": false,
   "toc_position": {},
   "toc_section_display": true,
   "toc_window_display": false
  },
  "varInspector": {
   "cols": {
    "lenName": 16,
    "lenType": 16,
    "lenVar": 40
   },
   "kernels_config": {
    "python": {
     "delete_cmd_postfix": "",
     "delete_cmd_prefix": "del ",
     "library": "var_list.py",
     "varRefreshCmd": "print(var_dic_list())"
    },
    "r": {
     "delete_cmd_postfix": ") ",
     "delete_cmd_prefix": "rm(",
     "library": "var_list.r",
     "varRefreshCmd": "cat(var_dic_list()) "
    }
   },
   "types_to_exclude": [
    "module",
    "function",
    "builtin_function_or_method",
    "instance",
    "_Feature"
   ],
   "window_display": false
  }
 },
 "nbformat": 4,
 "nbformat_minor": 2
}
