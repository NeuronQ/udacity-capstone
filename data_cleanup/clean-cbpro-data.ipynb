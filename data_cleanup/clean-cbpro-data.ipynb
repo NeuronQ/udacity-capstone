{
 "cells": [
  {
   "cell_type": "code",
   "execution_count": 1,
   "metadata": {},
   "outputs": [
    {
     "name": "stdout",
     "output_type": "stream",
     "text": [
      "No LSB modules are available.\n",
      "Distributor ID:\tUbuntu\n",
      "Description:\tUbuntu 18.04.1 LTS\n",
      "Release:\t18.04\n",
      "Codename:\tbionic\n",
      "/data/learn/fucap/data_cleanup\n",
      "Python 2.7.15 :: Anaconda, Inc.\n",
      "/home/neuronq/miniconda3/envs/fucap/bin/python\n"
     ]
    }
   ],
   "source": [
    "!lsb_release -a\n",
    "!pwd\n",
    "!python -V\n",
    "!which python\n",
    "# --- EXPECT:\n",
    "# No LSB modules are available.\n",
    "# Distributor ID:\tUbuntu\n",
    "# Description:\tUbuntu 18.04.1 LTS\n",
    "# Release:\t18.04\n",
    "# Codename:\tbionic\n",
    "# /data/learn/fucap/data_cleanup\n",
    "# Python 2.7.15 :: Anaconda, Inc.\n",
    "# /home/neuronq/miniconda3/envs/fucap/bin/python"
   ]
  },
  {
   "cell_type": "code",
   "execution_count": 27,
   "metadata": {},
   "outputs": [
    {
     "name": "stdout",
     "output_type": "stream",
     "text": [
      "The autoreload extension is already loaded. To reload it, use:\n",
      "  %reload_ext autoreload\n"
     ]
    }
   ],
   "source": [
    "# autoreload\n",
    "%load_ext autoreload\n",
    "%autoreload 1\n",
    "\n",
    "# write code that works in both Python 2 (2.7+) and 3 (3.5+)\n",
    "from __future__ import absolute_import, division, print_function, unicode_literals\n",
    "try:\n",
    "    input = raw_input\n",
    "    range = xrange\n",
    "except NameError:\n",
    "    pass"
   ]
  },
  {
   "cell_type": "code",
   "execution_count": 29,
   "metadata": {},
   "outputs": [],
   "source": [
    "import os\n",
    "import sys\n",
    "from datetime import datetime\n",
    "import datetime as dtm\n",
    "import time\n",
    "\n",
    "import pandas as pd\n",
    "import numpy as np\n",
    "import matplotlib.pyplot as plt\n",
    "\n",
    "import pprint\n",
    "pp = pprint.PrettyPrinter(indent=2).pprint\n",
    "from IPython.display import display as dd\n",
    "from IPython.display import Image\n",
    "\n",
    "%matplotlib inline"
   ]
  },
  {
   "cell_type": "code",
   "execution_count": 28,
   "metadata": {},
   "outputs": [],
   "source": [
    "# add project dir to import path\n",
    "project_dir = os.path.split(os.getcwd())[0]\n",
    "if project_dir not in sys.path:\n",
    "    sys.path.append(project_dir)\n",
    "\n",
    "%aimport lib.visualization\n",
    "%aimport lib.helpers\n",
    "from lib.visualization import simple_plot\n",
    "import lib.helpers as helpers"
   ]
  },
  {
   "cell_type": "code",
   "execution_count": 26,
   "metadata": {},
   "outputs": [],
   "source": [
    "INPUT_FILENAME = '../data_src/btc.300s.cbpro.csv'\n",
    "OUT_FILENAME = '../data_clean/btc.300s.cbpro.csv'"
   ]
  },
  {
   "cell_type": "code",
   "execution_count": 25,
   "metadata": {},
   "outputs": [
    {
     "name": "stdout",
     "output_type": "stream",
     "text": [
      "size: 388209\n"
     ]
    },
    {
     "data": {
      "text/html": [
       "<div>\n",
       "<style scoped>\n",
       "    .dataframe tbody tr th:only-of-type {\n",
       "        vertical-align: middle;\n",
       "    }\n",
       "\n",
       "    .dataframe tbody tr th {\n",
       "        vertical-align: top;\n",
       "    }\n",
       "\n",
       "    .dataframe thead th {\n",
       "        text-align: right;\n",
       "    }\n",
       "</style>\n",
       "<table border=\"1\" class=\"dataframe\">\n",
       "  <thead>\n",
       "    <tr style=\"text-align: right;\">\n",
       "      <th></th>\n",
       "      <th>datetime</th>\n",
       "      <th>low</th>\n",
       "      <th>high</th>\n",
       "      <th>open</th>\n",
       "      <th>close</th>\n",
       "      <th>volume</th>\n",
       "    </tr>\n",
       "    <tr>\n",
       "      <th>timestamp</th>\n",
       "      <th></th>\n",
       "      <th></th>\n",
       "      <th></th>\n",
       "      <th></th>\n",
       "      <th></th>\n",
       "      <th></th>\n",
       "    </tr>\n",
       "  </thead>\n",
       "  <tbody>\n",
       "    <tr>\n",
       "      <th>1417416600</th>\n",
       "      <td>2014-12-01 06:50:00</td>\n",
       "      <td>370.00</td>\n",
       "      <td>370.0</td>\n",
       "      <td>370.00</td>\n",
       "      <td>370.0</td>\n",
       "      <td>0.026556</td>\n",
       "    </tr>\n",
       "    <tr>\n",
       "      <th>1417497900</th>\n",
       "      <td>2014-12-02 05:25:00</td>\n",
       "      <td>377.00</td>\n",
       "      <td>377.0</td>\n",
       "      <td>377.00</td>\n",
       "      <td>377.0</td>\n",
       "      <td>0.010000</td>\n",
       "    </tr>\n",
       "    <tr>\n",
       "      <th>1417517700</th>\n",
       "      <td>2014-12-02 10:55:00</td>\n",
       "      <td>377.75</td>\n",
       "      <td>378.0</td>\n",
       "      <td>377.75</td>\n",
       "      <td>378.0</td>\n",
       "      <td>4.000000</td>\n",
       "    </tr>\n",
       "    <tr>\n",
       "      <th>1417518000</th>\n",
       "      <td>2014-12-02 11:00:00</td>\n",
       "      <td>378.00</td>\n",
       "      <td>378.0</td>\n",
       "      <td>378.00</td>\n",
       "      <td>378.0</td>\n",
       "      <td>4.900000</td>\n",
       "    </tr>\n",
       "    <tr>\n",
       "      <th>1417518300</th>\n",
       "      <td>2014-12-02 11:05:00</td>\n",
       "      <td>378.00</td>\n",
       "      <td>378.0</td>\n",
       "      <td>378.00</td>\n",
       "      <td>378.0</td>\n",
       "      <td>5.200000</td>\n",
       "    </tr>\n",
       "  </tbody>\n",
       "</table>\n",
       "</div>"
      ],
      "text/plain": [
       "                       datetime     low   high    open  close    volume\n",
       "timestamp                                                              \n",
       "1417416600  2014-12-01 06:50:00  370.00  370.0  370.00  370.0  0.026556\n",
       "1417497900  2014-12-02 05:25:00  377.00  377.0  377.00  377.0  0.010000\n",
       "1417517700  2014-12-02 10:55:00  377.75  378.0  377.75  378.0  4.000000\n",
       "1417518000  2014-12-02 11:00:00  378.00  378.0  378.00  378.0  4.900000\n",
       "1417518300  2014-12-02 11:05:00  378.00  378.0  378.00  378.0  5.200000"
      ]
     },
     "metadata": {},
     "output_type": "display_data"
    },
    {
     "data": {
      "text/html": [
       "<div>\n",
       "<style scoped>\n",
       "    .dataframe tbody tr th:only-of-type {\n",
       "        vertical-align: middle;\n",
       "    }\n",
       "\n",
       "    .dataframe tbody tr th {\n",
       "        vertical-align: top;\n",
       "    }\n",
       "\n",
       "    .dataframe thead th {\n",
       "        text-align: right;\n",
       "    }\n",
       "</style>\n",
       "<table border=\"1\" class=\"dataframe\">\n",
       "  <thead>\n",
       "    <tr style=\"text-align: right;\">\n",
       "      <th></th>\n",
       "      <th>datetime</th>\n",
       "      <th>low</th>\n",
       "      <th>high</th>\n",
       "      <th>open</th>\n",
       "      <th>close</th>\n",
       "      <th>volume</th>\n",
       "    </tr>\n",
       "    <tr>\n",
       "      <th>timestamp</th>\n",
       "      <th></th>\n",
       "      <th></th>\n",
       "      <th></th>\n",
       "      <th></th>\n",
       "      <th></th>\n",
       "      <th></th>\n",
       "    </tr>\n",
       "  </thead>\n",
       "  <tbody>\n",
       "    <tr>\n",
       "      <th>1539128100</th>\n",
       "      <td>2018-10-09 23:35:00</td>\n",
       "      <td>6590.30</td>\n",
       "      <td>6593.48</td>\n",
       "      <td>6591.54</td>\n",
       "      <td>6590.30</td>\n",
       "      <td>17.148190</td>\n",
       "    </tr>\n",
       "    <tr>\n",
       "      <th>1539128400</th>\n",
       "      <td>2018-10-09 23:40:00</td>\n",
       "      <td>6586.55</td>\n",
       "      <td>6590.31</td>\n",
       "      <td>6590.31</td>\n",
       "      <td>6589.30</td>\n",
       "      <td>15.269094</td>\n",
       "    </tr>\n",
       "    <tr>\n",
       "      <th>1539128700</th>\n",
       "      <td>2018-10-09 23:45:00</td>\n",
       "      <td>6589.29</td>\n",
       "      <td>6589.69</td>\n",
       "      <td>6589.30</td>\n",
       "      <td>6589.48</td>\n",
       "      <td>12.466310</td>\n",
       "    </tr>\n",
       "    <tr>\n",
       "      <th>1539129000</th>\n",
       "      <td>2018-10-09 23:50:00</td>\n",
       "      <td>6589.47</td>\n",
       "      <td>6592.81</td>\n",
       "      <td>6589.48</td>\n",
       "      <td>6591.85</td>\n",
       "      <td>14.972801</td>\n",
       "    </tr>\n",
       "    <tr>\n",
       "      <th>1539129300</th>\n",
       "      <td>2018-10-09 23:55:00</td>\n",
       "      <td>6589.47</td>\n",
       "      <td>6592.81</td>\n",
       "      <td>6591.84</td>\n",
       "      <td>6589.48</td>\n",
       "      <td>31.305392</td>\n",
       "    </tr>\n",
       "  </tbody>\n",
       "</table>\n",
       "</div>"
      ],
      "text/plain": [
       "                       datetime      low     high     open    close     volume\n",
       "timestamp                                                                     \n",
       "1539128100  2018-10-09 23:35:00  6590.30  6593.48  6591.54  6590.30  17.148190\n",
       "1539128400  2018-10-09 23:40:00  6586.55  6590.31  6590.31  6589.30  15.269094\n",
       "1539128700  2018-10-09 23:45:00  6589.29  6589.69  6589.30  6589.48  12.466310\n",
       "1539129000  2018-10-09 23:50:00  6589.47  6592.81  6589.48  6591.85  14.972801\n",
       "1539129300  2018-10-09 23:55:00  6589.47  6592.81  6591.84  6589.48  31.305392"
      ]
     },
     "metadata": {},
     "output_type": "display_data"
    },
    {
     "data": {
      "image/png": "[encoded data removed]",
      "text/plain": [
       "<Figure size 720x216 with 1 Axes>"
      ]
     },
     "metadata": {},
     "output_type": "display_data"
    }
   ],
   "source": [
    "data = pd.read_csv(INPUT_FILENAME, index_col='timestamp')\n",
    "# data = data.reindex(index=data.index[::-1])\n",
    "data.sort_index(inplace=True)\n",
    "orig_data_size = len(data)\n",
    "print('size:', orig_data_size)\n",
    "dd(data.head())\n",
    "dd(data.tail())\n",
    "simple_plot(data, xticks_span=30 * 24 * 60 // 3)"
   ]
  },
  {
   "cell_type": "code",
   "execution_count": 8,
   "metadata": {},
   "outputs": [],
   "source": [
    "def add_empty(df, dt, inplace=False):\n",
    "    if not inplace:\n",
    "        df = df.copy()\n",
    "    empty_row = [np.nan] * df.columns.size\n",
    "    ts = df.iloc[-1].name - dt\n",
    "    ts_end = df.iloc[0].name\n",
    "    while ts > ts_end:\n",
    "        if ts not in df.index:     \n",
    "            empty_row[0] = helpers.ts_to_dt_str(ts)\n",
    "            df.loc[ts] = empty_row\n",
    "        ts -= dt\n",
    "    df.sort_index(inplace=True)\n",
    "    return df"
   ]
  },
  {
   "cell_type": "code",
   "execution_count": 9,
   "metadata": {},
   "outputs": [],
   "source": [
    "data = add_empty(data, 300, inplace=True)"
   ]
  },
  {
   "cell_type": "code",
   "execution_count": 10,
   "metadata": {},
   "outputs": [
    {
     "name": "stdout",
     "output_type": "stream",
     "text": [
      "data size went from 388209 to 405710\n",
      "missing points that needed to be added: 17501\n"
     ]
    }
   ],
   "source": [
    "print('data size went from %d to %d' % (orig_data_size, len(data)))\n",
    "print('missing points that needed to be added:',\n",
    "    len(data) - orig_data_size)"
   ]
  },
  {
   "cell_type": "code",
   "execution_count": 11,
   "metadata": {},
   "outputs": [],
   "source": [
    "# plot empty points percent\n",
    "def plot_empties(data):\n",
    "    ncs = np.zeros((len(data) - 100) // 100 + 1)\n",
    "    for i in range(0, len(data) - 100, 100):\n",
    "        ncs[i // 100] = data.iloc[i: i + 100]['close'].isna().sum()\n",
    "    plt.bar(np.arange(len(ncs)), ncs)"
   ]
  },
  {
   "cell_type": "code",
   "execution_count": 12,
   "metadata": {},
   "outputs": [
    {
     "data": {
      "image/png": "[encoded data removed]",
      "text/plain": [
       "<Figure size 432x288 with 1 Axes>"
      ]
     },
     "metadata": {},
     "output_type": "display_data"
    }
   ],
   "source": [
    "plot_empties(data)"
   ]
  },
  {
   "cell_type": "code",
   "execution_count": 13,
   "metadata": {},
   "outputs": [
    {
     "data": {
      "image/png": "[encoded data removed]",
      "text/plain": [
       "<Figure size 720x216 with 1 Axes>"
      ]
     },
     "metadata": {},
     "output_type": "display_data"
    }
   ],
   "source": [
    "# pick a cut-off data to throw away older data because it's bad\n",
    "ts_from = int(helpers.ymd_to_ts(2015, 2, 1))\n",
    "# get first index after cut-off point (maybe the very same)\n",
    "ts_from = data.loc[data.index >= ts_from].iloc[0].name\n",
    "data = data.loc[ts_from:]\n",
    "simple_plot(data, xticks_span=30 * 24 * 60 // 3)"
   ]
  },
  {
   "cell_type": "code",
   "execution_count": 14,
   "metadata": {},
   "outputs": [
    {
     "data": {
      "image/png": "[encoded data removed]",
      "text/plain": [
       "<Figure size 432x288 with 1 Axes>"
      ]
     },
     "metadata": {},
     "output_type": "display_data"
    }
   ],
   "source": [
    "plot_empties(data)"
   ]
  },
  {
   "cell_type": "code",
   "execution_count": 17,
   "metadata": {},
   "outputs": [
    {
     "name": "stderr",
     "output_type": "stream",
     "text": [
      "/home/neuronq/miniconda3/envs/ucap/lib/python2.7/site-packages/pandas/core/frame.py:3790: SettingWithCopyWarning: \n",
      "A value is trying to be set on a copy of a slice from a DataFrame\n",
      "\n",
      "See the caveats in the documentation: http://pandas.pydata.org/pandas-docs/stable/indexing.html#indexing-view-versus-copy\n",
      "  downcast=downcast, **kwargs)\n"
     ]
    }
   ],
   "source": [
    "data.fillna(method='ffill', inplace=True)"
   ]
  },
  {
   "cell_type": "code",
   "execution_count": 18,
   "metadata": {},
   "outputs": [
    {
     "data": {
      "image/png": "[encoded data removed]",
      "text/plain": [
       "<Figure size 432x288 with 1 Axes>"
      ]
     },
     "metadata": {},
     "output_type": "display_data"
    }
   ],
   "source": [
    "plot_empties(data)"
   ]
  },
  {
   "cell_type": "code",
   "execution_count": 33,
   "metadata": {},
   "outputs": [
    {
     "data": {
      "text/plain": [
       "0"
      ]
     },
     "execution_count": 33,
     "metadata": {},
     "output_type": "execute_result"
    }
   ],
   "source": [
    "data.datetime.duplicated().sum()"
   ]
  },
  {
   "cell_type": "code",
   "execution_count": 36,
   "metadata": {},
   "outputs": [],
   "source": [
    "data.to_csv(OUT_FILENAME)"
   ]
  },
  {
   "cell_type": "code",
   "execution_count": null,
   "metadata": {},
   "outputs": [],
   "source": []
  }
 ],
 "metadata": {
  "kernelspec": {
   "display_name": "Python 2",
   "language": "python",
   "name": "python2"
  },
  "language_info": {
   "codemirror_mode": {
    "name": "ipython",
    "version": 2
   },
   "file_extension": ".py",
   "mimetype": "text/x-python",
   "name": "python",
   "nbconvert_exporter": "python",
   "pygments_lexer": "ipython2",
   "version": "2.7.15"
  }
 },
 "nbformat": 4,
 "nbformat_minor": 2
}
