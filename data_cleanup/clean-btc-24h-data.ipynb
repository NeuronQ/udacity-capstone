{
 "cells": [
  {
   "cell_type": "code",
   "execution_count": 1,
   "metadata": {},
   "outputs": [],
   "source": [
    "# PARAMS:\n",
    "IN_FILENAME = '../data_src/btc_usd_24h_bitstamp.csv'\n",
    "OUT_FILENAME = '../data_clean/btc_usd_24h_bitstamp.csv'\n",
    "# TL;DR change params & Kernel > Restart & Run All to \"run this like a script\""
   ]
  },
  {
   "cell_type": "code",
   "execution_count": 2,
   "metadata": {
    "scrolled": true
   },
   "outputs": [
    {
     "name": "stdout",
     "output_type": "stream",
     "text": [
      "No LSB modules are available.\n",
      "Distributor ID:\tUbuntu\n",
      "Description:\tUbuntu 18.04.1 LTS\n",
      "Release:\t18.04\n",
      "Codename:\tbionic\n",
      "/data/learn/fucap/data_cleanup\n",
      "Python 2.7.15 :: Anaconda, Inc.\n",
      "/home/neuronq/miniconda3/envs/fucap/bin/python\n"
     ]
    }
   ],
   "source": [
    "!lsb_release -a\n",
    "!pwd\n",
    "!python -V\n",
    "!which python\n",
    "# --- EXPECT:\n",
    "# No LSB modules are available.\n",
    "# Distributor ID:\tUbuntu\n",
    "# Description:\tUbuntu 18.04.1 LTS\n",
    "# Release:\t18.04\n",
    "# Codename:\tbionic\n",
    "# /data/learn/fucap/data_cleanup\n",
    "# Python 2.7.15 :: Anaconda, Inc.\n",
    "# /home/neuronq/miniconda3/envs/fucap/bin/python"
   ]
  },
  {
   "cell_type": "code",
   "execution_count": 3,
   "metadata": {},
   "outputs": [],
   "source": [
    "# autoreload\n",
    "%load_ext autoreload\n",
    "%autoreload 1\n",
    "\n",
    "# write code that works in both Python 2 (2.7+) and 3 (3.5+)\n",
    "from __future__ import absolute_import, division, print_function, unicode_literals\n",
    "try:\n",
    "    input = raw_input\n",
    "    range = xrange\n",
    "except NameError:\n",
    "    pass"
   ]
  },
  {
   "cell_type": "code",
   "execution_count": 4,
   "metadata": {},
   "outputs": [],
   "source": [
    "import os\n",
    "import sys\n",
    "from datetime import datetime\n",
    "import datetime as dtm\n",
    "import time\n",
    "\n",
    "import pandas as pd\n",
    "import numpy as np\n",
    "import matplotlib.pyplot as plt\n",
    "\n",
    "import pprint\n",
    "pp = pprint.PrettyPrinter(indent=2).pprint\n",
    "from IPython.display import display as dd\n",
    "from IPython.display import Image\n",
    "\n",
    "%matplotlib inline\n",
    "\n",
    "# add project dir to import path\n",
    "project_dir = os.path.split(os.getcwd())[0]\n",
    "if project_dir not in sys.path:\n",
    "    sys.path.append(project_dir)\n",
    "\n",
    "%aimport lib.visualization\n",
    "%aimport lib.helpers\n",
    "from lib.visualization import simple_plot\n",
    "import lib.helpers as helpers"
   ]
  },
  {
   "cell_type": "markdown",
   "metadata": {},
   "source": [
    "### Sources\n",
    "https://www.investing.com/crypto/bitcoin/btc-usd-historical-data?cid=49798\n",
    "(Same data will be returned by Bitstamp API.)"
   ]
  },
  {
   "cell_type": "code",
   "execution_count": 5,
   "metadata": {},
   "outputs": [],
   "source": [
    "def fill_missing(df, inplace=False):\n",
    "    if not inplace:\n",
    "        df = df.copy()\n",
    "\n",
    "    df['missing'] = 0\n",
    "\n",
    "    from_dt = df.index.values[0]\n",
    "    to_dt = df.index.values[-1]\n",
    "    delta = np.timedelta64(1, 'D')\n",
    "    dt = to_dt - delta\n",
    "    \n",
    "    empty = [np.nan] * len(df.columns)\n",
    "    empty[-1] = 1\n",
    "\n",
    "    while dt > from_dt:\n",
    "        if dt not in df.index:\n",
    "            df.loc[dt] = empty\n",
    "        dt -= delta\n",
    "    \n",
    "    df.sort_index(inplace=True)\n",
    "    \n",
    "    df.fillna(method='ffill', inplace=True)\n",
    "    \n",
    "    return df"
   ]
  },
  {
   "cell_type": "code",
   "execution_count": 6,
   "metadata": {},
   "outputs": [
    {
     "name": "stdout",
     "output_type": "stream",
     "text": [
      "> size: 1351\n"
     ]
    },
    {
     "data": {
      "text/html": [
       "<div>\n",
       "<style scoped>\n",
       "    .dataframe tbody tr th:only-of-type {\n",
       "        vertical-align: middle;\n",
       "    }\n",
       "\n",
       "    .dataframe tbody tr th {\n",
       "        vertical-align: top;\n",
       "    }\n",
       "\n",
       "    .dataframe thead th {\n",
       "        text-align: right;\n",
       "    }\n",
       "</style>\n",
       "<table border=\"1\" class=\"dataframe\">\n",
       "  <thead>\n",
       "    <tr style=\"text-align: right;\">\n",
       "      <th></th>\n",
       "      <th>Date</th>\n",
       "      <th>Price</th>\n",
       "      <th>Open</th>\n",
       "      <th>High</th>\n",
       "      <th>Low</th>\n",
       "      <th>Vol.</th>\n",
       "      <th>Change %</th>\n",
       "    </tr>\n",
       "  </thead>\n",
       "  <tbody>\n",
       "    <tr>\n",
       "      <th>0</th>\n",
       "      <td>Oct 13, 2018</td>\n",
       "      <td>6,195.0</td>\n",
       "      <td>6,180.8</td>\n",
       "      <td>6,214.1</td>\n",
       "      <td>6,168.8</td>\n",
       "      <td>2.27K</td>\n",
       "      <td>0.16%</td>\n",
       "    </tr>\n",
       "    <tr>\n",
       "      <th>1</th>\n",
       "      <td>Oct 12, 2018</td>\n",
       "      <td>6,184.9</td>\n",
       "      <td>6,152.8</td>\n",
       "      <td>6,238.3</td>\n",
       "      <td>6,109.8</td>\n",
       "      <td>3.25K</td>\n",
       "      <td>0.39%</td>\n",
       "    </tr>\n",
       "    <tr>\n",
       "      <th>2</th>\n",
       "      <td>Oct 11, 2018</td>\n",
       "      <td>6,161.0</td>\n",
       "      <td>6,517.5</td>\n",
       "      <td>6,518.4</td>\n",
       "      <td>6,067.0</td>\n",
       "      <td>9.62K</td>\n",
       "      <td>-5.47%</td>\n",
       "    </tr>\n",
       "    <tr>\n",
       "      <th>3</th>\n",
       "      <td>Oct 10, 2018</td>\n",
       "      <td>6,517.5</td>\n",
       "      <td>6,588.7</td>\n",
       "      <td>6,589.8</td>\n",
       "      <td>6,400.0</td>\n",
       "      <td>5.18K</td>\n",
       "      <td>-1.08%</td>\n",
       "    </tr>\n",
       "    <tr>\n",
       "      <th>4</th>\n",
       "      <td>Oct 09, 2018</td>\n",
       "      <td>6,588.8</td>\n",
       "      <td>6,604.8</td>\n",
       "      <td>6,623.1</td>\n",
       "      <td>6,553.1</td>\n",
       "      <td>2.25K</td>\n",
       "      <td>-0.24%</td>\n",
       "    </tr>\n",
       "  </tbody>\n",
       "</table>\n",
       "</div>"
      ],
      "text/plain": [
       "           Date    Price     Open     High      Low   Vol. Change %\n",
       "0  Oct 13, 2018  6,195.0  6,180.8  6,214.1  6,168.8  2.27K    0.16%\n",
       "1  Oct 12, 2018  6,184.9  6,152.8  6,238.3  6,109.8  3.25K    0.39%\n",
       "2  Oct 11, 2018  6,161.0  6,517.5  6,518.4  6,067.0  9.62K   -5.47%\n",
       "3  Oct 10, 2018  6,517.5  6,588.7  6,589.8  6,400.0  5.18K   -1.08%\n",
       "4  Oct 09, 2018  6,588.8  6,604.8  6,623.1  6,553.1  2.25K   -0.24%"
      ]
     },
     "metadata": {},
     "output_type": "display_data"
    },
    {
     "data": {
      "text/html": [
       "<div>\n",
       "<style scoped>\n",
       "    .dataframe tbody tr th:only-of-type {\n",
       "        vertical-align: middle;\n",
       "    }\n",
       "\n",
       "    .dataframe tbody tr th {\n",
       "        vertical-align: top;\n",
       "    }\n",
       "\n",
       "    .dataframe thead th {\n",
       "        text-align: right;\n",
       "    }\n",
       "</style>\n",
       "<table border=\"1\" class=\"dataframe\">\n",
       "  <thead>\n",
       "    <tr style=\"text-align: right;\">\n",
       "      <th></th>\n",
       "      <th>Date</th>\n",
       "      <th>Price</th>\n",
       "      <th>Open</th>\n",
       "      <th>High</th>\n",
       "      <th>Low</th>\n",
       "      <th>Vol.</th>\n",
       "      <th>Change %</th>\n",
       "    </tr>\n",
       "  </thead>\n",
       "  <tbody>\n",
       "    <tr>\n",
       "      <th>1346</th>\n",
       "      <td>Feb 05, 2015</td>\n",
       "      <td>217.0</td>\n",
       "      <td>227.0</td>\n",
       "      <td>228.9</td>\n",
       "      <td>213.6</td>\n",
       "      <td>4.31K</td>\n",
       "      <td>-4.41%</td>\n",
       "    </tr>\n",
       "    <tr>\n",
       "      <th>1347</th>\n",
       "      <td>Feb 04, 2015</td>\n",
       "      <td>227.0</td>\n",
       "      <td>227.4</td>\n",
       "      <td>231.0</td>\n",
       "      <td>220.0</td>\n",
       "      <td>14.31K</td>\n",
       "      <td>-0.15%</td>\n",
       "    </tr>\n",
       "    <tr>\n",
       "      <th>1348</th>\n",
       "      <td>Feb 03, 2015</td>\n",
       "      <td>227.4</td>\n",
       "      <td>238.0</td>\n",
       "      <td>244.4</td>\n",
       "      <td>223.8</td>\n",
       "      <td>17.76K</td>\n",
       "      <td>-4.46%</td>\n",
       "    </tr>\n",
       "    <tr>\n",
       "      <th>1349</th>\n",
       "      <td>Feb 02, 2015</td>\n",
       "      <td>238.0</td>\n",
       "      <td>214.8</td>\n",
       "      <td>242.0</td>\n",
       "      <td>214.8</td>\n",
       "      <td>6.42K</td>\n",
       "      <td>10.79%</td>\n",
       "    </tr>\n",
       "    <tr>\n",
       "      <th>1350</th>\n",
       "      <td>Feb 01, 2015</td>\n",
       "      <td>214.8</td>\n",
       "      <td>218.0</td>\n",
       "      <td>220.8</td>\n",
       "      <td>208.5</td>\n",
       "      <td>6.19K</td>\n",
       "      <td>-1.46%</td>\n",
       "    </tr>\n",
       "  </tbody>\n",
       "</table>\n",
       "</div>"
      ],
      "text/plain": [
       "              Date  Price   Open   High    Low    Vol. Change %\n",
       "1346  Feb 05, 2015  217.0  227.0  228.9  213.6   4.31K   -4.41%\n",
       "1347  Feb 04, 2015  227.0  227.4  231.0  220.0  14.31K   -0.15%\n",
       "1348  Feb 03, 2015  227.4  238.0  244.4  223.8  17.76K   -4.46%\n",
       "1349  Feb 02, 2015  238.0  214.8  242.0  214.8   6.42K   10.79%\n",
       "1350  Feb 01, 2015  214.8  218.0  220.8  208.5   6.19K   -1.46%"
      ]
     },
     "metadata": {},
     "output_type": "display_data"
    }
   ],
   "source": [
    "data = pd.read_csv(IN_FILENAME)\n",
    "print('> size:', len(data))\n",
    "dd(data.head())\n",
    "dd(data.tail())"
   ]
  },
  {
   "cell_type": "code",
   "execution_count": 7,
   "metadata": {},
   "outputs": [
    {
     "data": {
      "text/html": [
       "<div>\n",
       "<style scoped>\n",
       "    .dataframe tbody tr th:only-of-type {\n",
       "        vertical-align: middle;\n",
       "    }\n",
       "\n",
       "    .dataframe tbody tr th {\n",
       "        vertical-align: top;\n",
       "    }\n",
       "\n",
       "    .dataframe thead th {\n",
       "        text-align: right;\n",
       "    }\n",
       "</style>\n",
       "<table border=\"1\" class=\"dataframe\">\n",
       "  <thead>\n",
       "    <tr style=\"text-align: right;\">\n",
       "      <th></th>\n",
       "      <th>Price</th>\n",
       "      <th>Open</th>\n",
       "      <th>High</th>\n",
       "      <th>Low</th>\n",
       "      <th>Vol.</th>\n",
       "      <th>Change %</th>\n",
       "    </tr>\n",
       "    <tr>\n",
       "      <th>datetime</th>\n",
       "      <th></th>\n",
       "      <th></th>\n",
       "      <th></th>\n",
       "      <th></th>\n",
       "      <th></th>\n",
       "      <th></th>\n",
       "    </tr>\n",
       "  </thead>\n",
       "  <tbody>\n",
       "    <tr>\n",
       "      <th>2018-10-13</th>\n",
       "      <td>6,195.0</td>\n",
       "      <td>6,180.8</td>\n",
       "      <td>6,214.1</td>\n",
       "      <td>6,168.8</td>\n",
       "      <td>2.27K</td>\n",
       "      <td>0.16%</td>\n",
       "    </tr>\n",
       "    <tr>\n",
       "      <th>2018-10-12</th>\n",
       "      <td>6,184.9</td>\n",
       "      <td>6,152.8</td>\n",
       "      <td>6,238.3</td>\n",
       "      <td>6,109.8</td>\n",
       "      <td>3.25K</td>\n",
       "      <td>0.39%</td>\n",
       "    </tr>\n",
       "  </tbody>\n",
       "</table>\n",
       "</div>"
      ],
      "text/plain": [
       "              Price     Open     High      Low   Vol. Change %\n",
       "datetime                                                      \n",
       "2018-10-13  6,195.0  6,180.8  6,214.1  6,168.8  2.27K    0.16%\n",
       "2018-10-12  6,184.9  6,152.8  6,238.3  6,109.8  3.25K    0.39%"
      ]
     },
     "execution_count": 7,
     "metadata": {},
     "output_type": "execute_result"
    }
   ],
   "source": [
    "data['datetime'] = pd.to_datetime(data['Date'])\n",
    "data.set_index('datetime', inplace=True)\n",
    "data.drop(['Date'], axis=1, inplace=True)\n",
    "data.head(2)"
   ]
  },
  {
   "cell_type": "code",
   "execution_count": 8,
   "metadata": {},
   "outputs": [
    {
     "data": {
      "text/html": [
       "<div>\n",
       "<style scoped>\n",
       "    .dataframe tbody tr th:only-of-type {\n",
       "        vertical-align: middle;\n",
       "    }\n",
       "\n",
       "    .dataframe tbody tr th {\n",
       "        vertical-align: top;\n",
       "    }\n",
       "\n",
       "    .dataframe thead th {\n",
       "        text-align: right;\n",
       "    }\n",
       "</style>\n",
       "<table border=\"1\" class=\"dataframe\">\n",
       "  <thead>\n",
       "    <tr style=\"text-align: right;\">\n",
       "      <th></th>\n",
       "      <th>close</th>\n",
       "      <th>open</th>\n",
       "      <th>high</th>\n",
       "      <th>low</th>\n",
       "      <th>volume</th>\n",
       "    </tr>\n",
       "    <tr>\n",
       "      <th>datetime</th>\n",
       "      <th></th>\n",
       "      <th></th>\n",
       "      <th></th>\n",
       "      <th></th>\n",
       "      <th></th>\n",
       "    </tr>\n",
       "  </thead>\n",
       "  <tbody>\n",
       "    <tr>\n",
       "      <th>2018-10-13</th>\n",
       "      <td>6,195.0</td>\n",
       "      <td>6,180.8</td>\n",
       "      <td>6,214.1</td>\n",
       "      <td>6,168.8</td>\n",
       "      <td>2.27K</td>\n",
       "    </tr>\n",
       "    <tr>\n",
       "      <th>2018-10-12</th>\n",
       "      <td>6,184.9</td>\n",
       "      <td>6,152.8</td>\n",
       "      <td>6,238.3</td>\n",
       "      <td>6,109.8</td>\n",
       "      <td>3.25K</td>\n",
       "    </tr>\n",
       "  </tbody>\n",
       "</table>\n",
       "</div>"
      ],
      "text/plain": [
       "              close     open     high      low volume\n",
       "datetime                                             \n",
       "2018-10-13  6,195.0  6,180.8  6,214.1  6,168.8  2.27K\n",
       "2018-10-12  6,184.9  6,152.8  6,238.3  6,109.8  3.25K"
      ]
     },
     "execution_count": 8,
     "metadata": {},
     "output_type": "execute_result"
    }
   ],
   "source": [
    "data.rename(str.lower, axis='columns', inplace=True)\n",
    "data.rename({'price': 'close', 'vol.': 'volume'}, axis='columns', inplace=True)\n",
    "data.drop(['change %'], axis=1, inplace=True)\n",
    "data.head(2)"
   ]
  },
  {
   "cell_type": "code",
   "execution_count": 9,
   "metadata": {},
   "outputs": [
    {
     "data": {
      "text/html": [
       "<div>\n",
       "<style scoped>\n",
       "    .dataframe tbody tr th:only-of-type {\n",
       "        vertical-align: middle;\n",
       "    }\n",
       "\n",
       "    .dataframe tbody tr th {\n",
       "        vertical-align: top;\n",
       "    }\n",
       "\n",
       "    .dataframe thead th {\n",
       "        text-align: right;\n",
       "    }\n",
       "</style>\n",
       "<table border=\"1\" class=\"dataframe\">\n",
       "  <thead>\n",
       "    <tr style=\"text-align: right;\">\n",
       "      <th></th>\n",
       "      <th>close</th>\n",
       "      <th>open</th>\n",
       "      <th>high</th>\n",
       "      <th>low</th>\n",
       "      <th>volume</th>\n",
       "    </tr>\n",
       "    <tr>\n",
       "      <th>datetime</th>\n",
       "      <th></th>\n",
       "      <th></th>\n",
       "      <th></th>\n",
       "      <th></th>\n",
       "      <th></th>\n",
       "    </tr>\n",
       "  </thead>\n",
       "  <tbody>\n",
       "    <tr>\n",
       "      <th>2018-10-13</th>\n",
       "      <td>6,195.0</td>\n",
       "      <td>6,180.8</td>\n",
       "      <td>6,214.1</td>\n",
       "      <td>6,168.8</td>\n",
       "      <td>2.27</td>\n",
       "    </tr>\n",
       "    <tr>\n",
       "      <th>2018-10-12</th>\n",
       "      <td>6,184.9</td>\n",
       "      <td>6,152.8</td>\n",
       "      <td>6,238.3</td>\n",
       "      <td>6,109.8</td>\n",
       "      <td>3.25</td>\n",
       "    </tr>\n",
       "  </tbody>\n",
       "</table>\n",
       "</div>"
      ],
      "text/plain": [
       "              close     open     high      low  volume\n",
       "datetime                                              \n",
       "2018-10-13  6,195.0  6,180.8  6,214.1  6,168.8    2.27\n",
       "2018-10-12  6,184.9  6,152.8  6,238.3  6,109.8    3.25"
      ]
     },
     "metadata": {},
     "output_type": "display_data"
    },
    {
     "data": {
      "text/plain": [
       "close      object\n",
       "open       object\n",
       "high       object\n",
       "low        object\n",
       "volume    float64\n",
       "dtype: object"
      ]
     },
     "execution_count": 9,
     "metadata": {},
     "output_type": "execute_result"
    }
   ],
   "source": [
    "data['volume'] = data['volume'].str.replace('K', '').replace('-', 'nan').astype(float)\n",
    "dd(data.head(2))\n",
    "data.dtypes"
   ]
  },
  {
   "cell_type": "code",
   "execution_count": 10,
   "metadata": {},
   "outputs": [],
   "source": [
    "data['close'] = data['close'].str.replace(',', '').astype(float)"
   ]
  },
  {
   "cell_type": "code",
   "execution_count": 11,
   "metadata": {},
   "outputs": [],
   "source": [
    "data['open'] = data['open'].str.replace(',', '').astype(float)"
   ]
  },
  {
   "cell_type": "code",
   "execution_count": 12,
   "metadata": {},
   "outputs": [],
   "source": [
    "data['high'] = data['high'].str.replace(',', '').astype(float)"
   ]
  },
  {
   "cell_type": "code",
   "execution_count": 13,
   "metadata": {},
   "outputs": [],
   "source": [
    "data['low'] = data['low'].str.replace(',', '').astype(float)"
   ]
  },
  {
   "cell_type": "code",
   "execution_count": 14,
   "metadata": {},
   "outputs": [
    {
     "data": {
      "text/plain": [
       "close     float64\n",
       "open      float64\n",
       "high      float64\n",
       "low       float64\n",
       "volume    float64\n",
       "dtype: object"
      ]
     },
     "execution_count": 14,
     "metadata": {},
     "output_type": "execute_result"
    }
   ],
   "source": [
    "data.dtypes"
   ]
  },
  {
   "cell_type": "code",
   "execution_count": 15,
   "metadata": {},
   "outputs": [
    {
     "data": {
      "text/html": [
       "<div>\n",
       "<style scoped>\n",
       "    .dataframe tbody tr th:only-of-type {\n",
       "        vertical-align: middle;\n",
       "    }\n",
       "\n",
       "    .dataframe tbody tr th {\n",
       "        vertical-align: top;\n",
       "    }\n",
       "\n",
       "    .dataframe thead th {\n",
       "        text-align: right;\n",
       "    }\n",
       "</style>\n",
       "<table border=\"1\" class=\"dataframe\">\n",
       "  <thead>\n",
       "    <tr style=\"text-align: right;\">\n",
       "      <th></th>\n",
       "      <th>close</th>\n",
       "      <th>open</th>\n",
       "      <th>high</th>\n",
       "      <th>low</th>\n",
       "      <th>volume</th>\n",
       "    </tr>\n",
       "    <tr>\n",
       "      <th>datetime</th>\n",
       "      <th></th>\n",
       "      <th></th>\n",
       "      <th></th>\n",
       "      <th></th>\n",
       "      <th></th>\n",
       "    </tr>\n",
       "  </thead>\n",
       "  <tbody>\n",
       "    <tr>\n",
       "      <th>2018-10-13</th>\n",
       "      <td>6195.0</td>\n",
       "      <td>6180.8</td>\n",
       "      <td>6214.1</td>\n",
       "      <td>6168.8</td>\n",
       "      <td>2.27</td>\n",
       "    </tr>\n",
       "    <tr>\n",
       "      <th>2018-10-12</th>\n",
       "      <td>6184.9</td>\n",
       "      <td>6152.8</td>\n",
       "      <td>6238.3</td>\n",
       "      <td>6109.8</td>\n",
       "      <td>3.25</td>\n",
       "    </tr>\n",
       "  </tbody>\n",
       "</table>\n",
       "</div>"
      ],
      "text/plain": [
       "             close    open    high     low  volume\n",
       "datetime                                          \n",
       "2018-10-13  6195.0  6180.8  6214.1  6168.8    2.27\n",
       "2018-10-12  6184.9  6152.8  6238.3  6109.8    3.25"
      ]
     },
     "execution_count": 15,
     "metadata": {},
     "output_type": "execute_result"
    }
   ],
   "source": [
    "data.head(2)"
   ]
  },
  {
   "cell_type": "code",
   "execution_count": 17,
   "metadata": {},
   "outputs": [
    {
     "name": "stdout",
     "output_type": "stream",
     "text": [
      "Missing: 0\n"
     ]
    }
   ],
   "source": [
    "fill_missing(data, inplace=True)\n",
    "print('Missing:', int(data['missing'].sum()))\n",
    "# EXPECT: Missing: 0"
   ]
  },
  {
   "cell_type": "code",
   "execution_count": 22,
   "metadata": {},
   "outputs": [
    {
     "data": {
      "text/plain": [
       "1351"
      ]
     },
     "metadata": {},
     "output_type": "display_data"
    },
    {
     "data": {
      "text/plain": [
       "close      float64\n",
       "open       float64\n",
       "high       float64\n",
       "low        float64\n",
       "volume     float64\n",
       "missing      int64\n",
       "dtype: object"
      ]
     },
     "metadata": {},
     "output_type": "display_data"
    },
    {
     "data": {
      "text/html": [
       "<div>\n",
       "<style scoped>\n",
       "    .dataframe tbody tr th:only-of-type {\n",
       "        vertical-align: middle;\n",
       "    }\n",
       "\n",
       "    .dataframe tbody tr th {\n",
       "        vertical-align: top;\n",
       "    }\n",
       "\n",
       "    .dataframe thead th {\n",
       "        text-align: right;\n",
       "    }\n",
       "</style>\n",
       "<table border=\"1\" class=\"dataframe\">\n",
       "  <thead>\n",
       "    <tr style=\"text-align: right;\">\n",
       "      <th></th>\n",
       "      <th>close</th>\n",
       "      <th>open</th>\n",
       "      <th>high</th>\n",
       "      <th>low</th>\n",
       "      <th>volume</th>\n",
       "      <th>missing</th>\n",
       "    </tr>\n",
       "    <tr>\n",
       "      <th>datetime</th>\n",
       "      <th></th>\n",
       "      <th></th>\n",
       "      <th></th>\n",
       "      <th></th>\n",
       "      <th></th>\n",
       "      <th></th>\n",
       "    </tr>\n",
       "  </thead>\n",
       "  <tbody>\n",
       "    <tr>\n",
       "      <th>2015-02-01</th>\n",
       "      <td>214.8</td>\n",
       "      <td>218.0</td>\n",
       "      <td>220.8</td>\n",
       "      <td>208.5</td>\n",
       "      <td>6.19</td>\n",
       "      <td>0</td>\n",
       "    </tr>\n",
       "    <tr>\n",
       "      <th>2015-02-02</th>\n",
       "      <td>238.0</td>\n",
       "      <td>214.8</td>\n",
       "      <td>242.0</td>\n",
       "      <td>214.8</td>\n",
       "      <td>6.42</td>\n",
       "      <td>0</td>\n",
       "    </tr>\n",
       "    <tr>\n",
       "      <th>2015-02-03</th>\n",
       "      <td>227.4</td>\n",
       "      <td>238.0</td>\n",
       "      <td>244.4</td>\n",
       "      <td>223.8</td>\n",
       "      <td>17.76</td>\n",
       "      <td>0</td>\n",
       "    </tr>\n",
       "    <tr>\n",
       "      <th>2015-02-04</th>\n",
       "      <td>227.0</td>\n",
       "      <td>227.4</td>\n",
       "      <td>231.0</td>\n",
       "      <td>220.0</td>\n",
       "      <td>14.31</td>\n",
       "      <td>0</td>\n",
       "    </tr>\n",
       "    <tr>\n",
       "      <th>2015-02-05</th>\n",
       "      <td>217.0</td>\n",
       "      <td>227.0</td>\n",
       "      <td>228.9</td>\n",
       "      <td>213.6</td>\n",
       "      <td>4.31</td>\n",
       "      <td>0</td>\n",
       "    </tr>\n",
       "  </tbody>\n",
       "</table>\n",
       "</div>"
      ],
      "text/plain": [
       "            close   open   high    low  volume  missing\n",
       "datetime                                               \n",
       "2015-02-01  214.8  218.0  220.8  208.5    6.19        0\n",
       "2015-02-02  238.0  214.8  242.0  214.8    6.42        0\n",
       "2015-02-03  227.4  238.0  244.4  223.8   17.76        0\n",
       "2015-02-04  227.0  227.4  231.0  220.0   14.31        0\n",
       "2015-02-05  217.0  227.0  228.9  213.6    4.31        0"
      ]
     },
     "execution_count": 22,
     "metadata": {},
     "output_type": "execute_result"
    }
   ],
   "source": [
    "dd(len(data))\n",
    "dd(data.dtypes)\n",
    "data.head()"
   ]
  },
  {
   "cell_type": "code",
   "execution_count": 19,
   "metadata": {},
   "outputs": [
    {
     "data": {
      "image/png": "[encoded data removed]",
      "text/plain": [
       "<Figure size 720x216 with 1 Axes>"
      ]
     },
     "metadata": {},
     "output_type": "display_data"
    }
   ],
   "source": [
    "simple_plot(data, show_xlabels=False)"
   ]
  },
  {
   "cell_type": "code",
   "execution_count": 23,
   "metadata": {},
   "outputs": [
    {
     "data": {
      "text/plain": [
       "DatetimeIndex(['2015-02-01', '2015-02-02', '2015-02-03', '2015-02-04',\n",
       "               '2015-02-05', '2015-02-06', '2015-02-07', '2015-02-08',\n",
       "               '2015-02-09', '2015-02-10',\n",
       "               ...\n",
       "               '2018-10-04', '2018-10-05', '2018-10-06', '2018-10-07',\n",
       "               '2018-10-08', '2018-10-09', '2018-10-10', '2018-10-11',\n",
       "               '2018-10-12', '2018-10-13'],\n",
       "              dtype='datetime64[ns]', name=u'datetime', length=1351, freq=None)"
      ]
     },
     "execution_count": 23,
     "metadata": {},
     "output_type": "execute_result"
    }
   ],
   "source": [
    "data.index"
   ]
  },
  {
   "cell_type": "code",
   "execution_count": 68,
   "metadata": {},
   "outputs": [
    {
     "name": "stdout",
     "output_type": "stream",
     "text": [
      "--- Last 6 M:\n"
     ]
    },
    {
     "data": {
      "image/png": "[encoded data removed]",
      "text/plain": [
       "<Figure size 720x216 with 1 Axes>"
      ]
     },
     "metadata": {},
     "output_type": "display_data"
    }
   ],
   "source": [
    "print('--- Last 6 M:')\n",
    "simple_plot(\n",
    "    data[datetime.today() - dtm.timedelta(days=6 * 30):],\n",
    "    show_xlabels=False)"
   ]
  },
  {
   "cell_type": "code",
   "execution_count": 70,
   "metadata": {},
   "outputs": [],
   "source": [
    "data.to_csv(OUT_FILENAME)"
   ]
  }
 ],
 "metadata": {
  "kernelspec": {
   "display_name": "Python 2",
   "language": "python",
   "name": "python2"
  },
  "language_info": {
   "codemirror_mode": {
    "name": "ipython",
    "version": 2
   },
   "file_extension": ".py",
   "mimetype": "text/x-python",
   "name": "python",
   "nbconvert_exporter": "python",
   "pygments_lexer": "ipython2",
   "version": "2.7.15"
  },
  "toc": {
   "base_numbering": 1,
   "nav_menu": {},
   "number_sections": true,
   "sideBar": true,
   "skip_h1_title": false,
   "title_cell": "Table of Contents",
   "title_sidebar": "Contents",
   "toc_cell": false,
   "toc_position": {},
   "toc_section_display": true,
   "toc_window_display": false
  },
  "varInspector": {
   "cols": {
    "lenName": 16,
    "lenType": 16,
    "lenVar": 40
   },
   "kernels_config": {
    "python": {
     "delete_cmd_postfix": "",
     "delete_cmd_prefix": "del ",
     "library": "var_list.py",
     "varRefreshCmd": "print(var_dic_list())"
    },
    "r": {
     "delete_cmd_postfix": ") ",
     "delete_cmd_prefix": "rm(",
     "library": "var_list.r",
     "varRefreshCmd": "cat(var_dic_list()) "
    }
   },
   "types_to_exclude": [
    "module",
    "function",
    "builtin_function_or_method",
    "instance",
    "_Feature"
   ],
   "window_display": false
  }
 },
 "nbformat": 4,
 "nbformat_minor": 2
}
