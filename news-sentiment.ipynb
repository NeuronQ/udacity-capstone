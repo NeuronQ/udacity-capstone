{
 "cells": [
  {
   "cell_type": "code",
   "execution_count": 23,
   "metadata": {},
   "outputs": [],
   "source": [
    "# PARAMS:\n",
    "IN_FILENAME = './data_clean/abcnews-date-text.csv'\n",
    "OUT_FILENAME = './data_clean/abcnews-date-text.with-sentiment.csv'\n",
    "# TL;DR change params & Kernel > Restart & Run All to \"run this like a script\""
   ]
  },
  {
   "cell_type": "code",
   "execution_count": 24,
   "metadata": {},
   "outputs": [
    {
     "name": "stdout",
     "output_type": "stream",
     "text": [
      "The autoreload extension is already loaded. To reload it, use:\n",
      "  %reload_ext autoreload\n"
     ]
    }
   ],
   "source": [
    "# autoreload\n",
    "%load_ext autoreload\n",
    "%autoreload 1\n",
    "\n",
    "# write code that works in both Python 2 (2.7+) and 3 (3.5+)\n",
    "from __future__ import absolute_import, division, print_function, unicode_literals\n",
    "try:\n",
    "    input = raw_input\n",
    "    range = xrange\n",
    "except NameError:\n",
    "    pass"
   ]
  },
  {
   "cell_type": "code",
   "execution_count": 25,
   "metadata": {},
   "outputs": [],
   "source": [
    "# !pip install --upgrade google-cloud\n",
    "# !pip install --upgrade google-cloud-language"
   ]
  },
  {
   "cell_type": "code",
   "execution_count": 36,
   "metadata": {},
   "outputs": [],
   "source": [
    "import os\n",
    "import sys\n",
    "from datetime import datetime\n",
    "import datetime as dtm\n",
    "import time\n",
    "import re\n",
    "\n",
    "import pandas as pd\n",
    "import numpy as np\n",
    "import matplotlib.pyplot as plt\n",
    "\n",
    "import pprint\n",
    "pp = pprint.PrettyPrinter(indent=2).pprint\n",
    "from IPython.display import display as dd\n",
    "from IPython.display import Image\n",
    "\n",
    "%matplotlib inline\n",
    "\n",
    "%aimport lib.visualization\n",
    "%aimport lib.helpers\n",
    "%aimport data_cleanup.util\n",
    "from lib.visualization import simple_plot\n",
    "import lib.helpers as helpers\n",
    "\n",
    "np.set_printoptions(threshold=1000)  # 'nan' == all\n",
    "pd.set_option('display.max_rows', 1000)"
   ]
  },
  {
   "cell_type": "code",
   "execution_count": 68,
   "metadata": {},
   "outputs": [
    {
     "name": "stdout",
     "output_type": "stream",
     "text": [
      "> size: 79\n"
     ]
    },
    {
     "data": {
      "text/plain": [
       "headline_text    object\n",
       "dtype: object"
      ]
     },
     "metadata": {},
     "output_type": "display_data"
    },
    {
     "data": {
      "text/html": [
       "<div>\n",
       "<style scoped>\n",
       "    .dataframe tbody tr th:only-of-type {\n",
       "        vertical-align: middle;\n",
       "    }\n",
       "\n",
       "    .dataframe tbody tr th {\n",
       "        vertical-align: top;\n",
       "    }\n",
       "\n",
       "    .dataframe thead th {\n",
       "        text-align: right;\n",
       "    }\n",
       "</style>\n",
       "<table border=\"1\" class=\"dataframe\">\n",
       "  <thead>\n",
       "    <tr style=\"text-align: right;\">\n",
       "      <th></th>\n",
       "      <th>headline_text</th>\n",
       "    </tr>\n",
       "    <tr>\n",
       "      <th>datetime</th>\n",
       "      <th></th>\n",
       "    </tr>\n",
       "  </thead>\n",
       "  <tbody>\n",
       "    <tr>\n",
       "      <th>2011-05-14</th>\n",
       "      <td>race call btc cup doomben</td>\n",
       "    </tr>\n",
       "    <tr>\n",
       "      <th>2012-05-09</th>\n",
       "      <td>bufferings hopes slump after btc cup draw</td>\n",
       "    </tr>\n",
       "    <tr>\n",
       "      <th>2013-04-17</th>\n",
       "      <td>kohler value bitcoin gold</td>\n",
       "    </tr>\n",
       "    <tr>\n",
       "      <th>2013-05-11</th>\n",
       "      <td>cummings colt on song in btc cup</td>\n",
       "    </tr>\n",
       "    <tr>\n",
       "      <th>2013-10-26</th>\n",
       "      <td>us seizes bitcoins from man linked to silk road</td>\n",
       "    </tr>\n",
       "  </tbody>\n",
       "</table>\n",
       "</div>"
      ],
      "text/plain": [
       "                                              headline_text\n",
       "datetime                                                   \n",
       "2011-05-14                        race call btc cup doomben\n",
       "2012-05-09        bufferings hopes slump after btc cup draw\n",
       "2013-04-17                        kohler value bitcoin gold\n",
       "2013-05-11                 cummings colt on song in btc cup\n",
       "2013-10-26  us seizes bitcoins from man linked to silk road"
      ]
     },
     "metadata": {},
     "output_type": "display_data"
    },
    {
     "data": {
      "text/html": [
       "<div>\n",
       "<style scoped>\n",
       "    .dataframe tbody tr th:only-of-type {\n",
       "        vertical-align: middle;\n",
       "    }\n",
       "\n",
       "    .dataframe tbody tr th {\n",
       "        vertical-align: top;\n",
       "    }\n",
       "\n",
       "    .dataframe thead th {\n",
       "        text-align: right;\n",
       "    }\n",
       "</style>\n",
       "<table border=\"1\" class=\"dataframe\">\n",
       "  <thead>\n",
       "    <tr style=\"text-align: right;\">\n",
       "      <th></th>\n",
       "      <th>headline_text</th>\n",
       "    </tr>\n",
       "    <tr>\n",
       "      <th>datetime</th>\n",
       "      <th></th>\n",
       "    </tr>\n",
       "  </thead>\n",
       "  <tbody>\n",
       "    <tr>\n",
       "      <th>2017-12-15</th>\n",
       "      <td>coinbase is going to add altcoins to its platf...</td>\n",
       "    </tr>\n",
       "    <tr>\n",
       "      <th>2017-12-15</th>\n",
       "      <td>us prosecutors rush to sell bitcoin seized in ...</td>\n",
       "    </tr>\n",
       "    <tr>\n",
       "      <th>2017-12-19</th>\n",
       "      <td>rob pyne turns to bitcoin for post political c...</td>\n",
       "    </tr>\n",
       "    <tr>\n",
       "      <th>2017-12-20</th>\n",
       "      <td>north korean hackers raiding bitcoin exchanges</td>\n",
       "    </tr>\n",
       "    <tr>\n",
       "      <th>2017-12-23</th>\n",
       "      <td>bitcoin plunges in value after manic upward swing</td>\n",
       "    </tr>\n",
       "  </tbody>\n",
       "</table>\n",
       "</div>"
      ],
      "text/plain": [
       "                                                headline_text\n",
       "datetime                                                     \n",
       "2017-12-15  coinbase is going to add altcoins to its platf...\n",
       "2017-12-15  us prosecutors rush to sell bitcoin seized in ...\n",
       "2017-12-19  rob pyne turns to bitcoin for post political c...\n",
       "2017-12-20     north korean hackers raiding bitcoin exchanges\n",
       "2017-12-23  bitcoin plunges in value after manic upward swing"
      ]
     },
     "metadata": {},
     "output_type": "display_data"
    }
   ],
   "source": [
    "data = pd.read_csv(IN_FILENAME, index_col='datetime')\n",
    "print('> size:', len(data))\n",
    "dd(data.dtypes)\n",
    "dd(data.head())\n",
    "dd(data.tail())"
   ]
  },
  {
   "cell_type": "code",
   "execution_count": 69,
   "metadata": {},
   "outputs": [
    {
     "name": "stdout",
     "output_type": "stream",
     "text": [
      "env: GOOGLE_APPLICATION_CREDENTIALS=/home/neuronq/xxx/ucapstone-dd802778408c.json\n"
     ]
    }
   ],
   "source": [
    "%env GOOGLE_APPLICATION_CREDENTIALS=/home/neuronq/xxx/ucapstone-dd802778408c.json"
   ]
  },
  {
   "cell_type": "code",
   "execution_count": 70,
   "metadata": {},
   "outputs": [],
   "source": [
    "from data_cleanup.util import rate_limit, retry"
   ]
  },
  {
   "cell_type": "code",
   "execution_count": 71,
   "metadata": {},
   "outputs": [],
   "source": [
    "# Imports the Google Cloud client library\n",
    "from google.cloud import language\n",
    "from google.cloud.language import enums\n",
    "from google.cloud.language import types\n",
    "\n",
    "# Instantiates a client\n",
    "client = language.LanguageServiceClient()\n",
    "\n",
    "@retry(tries=4, delay=1)\n",
    "@rate_limit(n=9, dt=1)\n",
    "def get_sentiment(text):\n",
    "    try:\n",
    "        document = types.Document(\n",
    "            content=text,\n",
    "            type=enums.Document.Type.PLAIN_TEXT)\n",
    "        sentiment = client.analyze_sentiment(document=document).document_sentiment\n",
    "    except Exception as exc:\n",
    "        return None, exc\n",
    "    return sentiment.score, None\n"
   ]
  },
  {
   "cell_type": "code",
   "execution_count": 74,
   "metadata": {},
   "outputs": [],
   "source": [
    "data['sentiment'] = 0.0"
   ]
  },
  {
   "cell_type": "code",
   "execution_count": null,
   "metadata": {},
   "outputs": [],
   "source": []
  },
  {
   "cell_type": "code",
   "execution_count": 76,
   "metadata": {},
   "outputs": [
    {
     "name": "stdout",
     "output_type": "stream",
     "text": [
      "> score for 'race call btc cup doomben': 0.300000011921\n",
      "> score for 'bufferings hopes slump after btc cup draw': 0.0\n",
      "> score for 'kohler value bitcoin gold': 0.300000011921\n",
      "> score for 'cummings colt on song in btc cup': 0.300000011921\n",
      "> score for 'us seizes bitcoins from man linked to silk road': -0.300000011921\n",
      "> score for 'bitcoin site hacked founder says': -0.699999988079\n",
      "> score for 'bitcoin': 0.20000000298\n",
      "> score for 'british it worker searches landfill for bitcoin fortune': 0.40000000596\n",
      "> score for 'bitcoins the digital currency explained': 0.40000000596\n",
      "> score for 'australian dictionary centre chooses bitcoin as word of the year': 0.40000000596\n",
      "> score for 'zynga adoption pushes bitcoin back over 1000': 0.0\n",
      "> score for 'vegas casinos accepting bitcoin': 0.600000023842\n",
      "> score for 'bitcoin exchange operators charged silk road links': 0.300000011921\n",
      "> score for 'bitcoin rattled': 0.10000000149\n",
      "> score for 'bitcoins virtual exchange disaster': -0.10000000149\n",
      "> score for 'an newsweek magazine says it has found bitcoin creator': 0.600000023842\n",
      "> score for 'us magazine identifes bitcoin creator': 0.40000000596\n",
      "> score for 'failed mtgox exchange finds 200000 bitcoins in old wallet:': 0.5\n",
      "> score for 'bitcoin atms set to boost popularity of digital currency': 0.300000011921\n",
      "> score for 'bitcoin traders settle class actions over failed mt gox exchange': -0.40000000596\n",
      "> score for 'famous seamus wins btc cup at doomben': 0.600000023842\n",
      "> score for 'australian tax office release new rules on bitcoin transactions': 0.20000000298\n",
      "> score for 'bitcoin court case sparks questions about digital': 0.300000011921\n",
      "> score for 'tax office delays ruling on bitcoin': 0.20000000298\n",
      "> score for 'melbourne bitcoin trader loses $70000 to hacker': 0.0\n",
      "> score for 'bitcoin will not be taxed as money ato says': -0.40000000596\n",
      "> score for 'bitcoin promoter pleads guilty to unlicensed use of currency': -0.600000023842\n",
      "> score for 'money problems for bitcoin as a new virtual aussie': 0.300000011921\n",
      "> score for 'new bitcoin exchange launched in sydney': 0.10000000149\n",
      "> score for 'bitcoin ceo adam tepper killed in thailand': -0.5\n",
      "> score for 'mtgox bitcoin exchange ceo mark karpeles arrested in japan': -0.5\n",
      "> score for 'bitcoin traders claim discrimination by australias banks': -0.800000011921\n",
      "> score for 'quiggin bitcoins are a waste of energy': -0.699999988079\n",
      "> score for 'bitcoin farmer for agriculture': 0.20000000298\n",
      "> score for 'chicken bitcoin': 0.300000011921\n",
      "> score for 'bitcoin suspected founder craig wright home raided by afp': 0.300000011921\n",
      "> score for 'bitcoin ransom paid by hospital after hackers attack system': -0.5\n",
      "> score for 'chalmers the blockchain revolution': 0.10000000149\n",
      "> score for 'australian bitcoin exchange igot on verge of collapse': -0.20000000298\n",
      "> score for 'bitcoin industry rushing through tough new guidelines': 0.5\n",
      "> score for 'bitcoin creator craig wright publicly identified': 0.0\n",
      "> score for 'experts divided australian craig wrights claim created bitcoin': 0.600000023842\n",
      "> score for 'its called blockchain and it could be a game changer': 0.10000000149\n",
      "> score for 'usd 72 million in bitcoin stolen in hong kong': -0.40000000596\n",
      "> score for 'bitcoin increasingly under the mercy of chinas': -0.300000011921\n",
      "> score for 'bitcoin hits market high': 0.10000000149\n",
      "> score for 'could blockchain improve pngs low rate of financial inclusion': 0.10000000149\n",
      "> score for 'bitcoin cryptocurrencies and rise of ethereum': 0.300000011921\n",
      "> score for 'a fork in the bitcoin; software is eating the': 0.0\n",
      "> score for 'bitcoin changes explained': 0.600000023842\n",
      "> score for 'bitcoin split threatens as business watches on': -0.800000011921\n",
      "> score for 'bitcoin bubble about to burst': 0.20000000298\n",
      "> score for 'blockchain: the technology that could dramatically': 0.10000000149\n",
      "> score for 'blockchain technology fuels peer to peer energy trading start up': 0.5\n",
      "> score for 'perth start up using blockchain technology': 0.10000000149\n",
      "> score for 'bitcoin regulation key points': 0.0\n",
      "> score for 'bitcoin one step closer to being regulated in australia': 0.20000000298\n",
      "> score for 'bitcoin scams warning issued on bitcoin': -0.10000000149\n",
      "> score for 'bitcoin is going mainstream': 0.10000000149\n",
      "> score for 'big movements in value of bitcoin': 0.5\n",
      "> score for 'bitcoin price what is behind the jumps and bumps': 0.0\n",
      "> score for 'record winning cats missing bitcoin reward': 0.300000011921\n",
      "> score for 'bitcoin hits record high': 0.10000000149\n",
      "> score for 'bitcoin almost hits 10000 usd record high': 0.699999988079\n",
      "> score for 'bitcoin continues rise': 0.20000000298\n",
      "> score for 'bitcoin speculation betting says expert': 0.0\n",
      "> score for 'heres what would happen if the bitcoin bubble burst': 0.40000000596\n",
      "> score for 'bitcoin down; shares up': 0.20000000298\n",
      "> score for 'tgif just dont pay for your beer with bitcoin': 0.20000000298\n",
      "> score for 'bitcoin what the bubble tells us about ourselves': 0.5\n",
      "> score for 'bitcoin enters the mainstream': 0.10000000149\n",
      "> score for 'bitcoin mining likely uses more energy than nz electricity': 0.40000000596\n",
      "> score for 'bitcoin falls slightly': 0.20000000298\n",
      "> score for 'bitcoin bubble arguments for and against the conversation': 0.0\n",
      "> score for 'coinbase is going to add altcoins to its platform bitcoin': 0.40000000596\n",
      "> score for 'us prosecutors rush to sell bitcoin seized in drug bust': -0.40000000596\n",
      "> score for 'rob pyne turns to bitcoin for post political career': 0.0\n",
      "> score for 'north korean hackers raiding bitcoin exchanges': -0.10000000149\n",
      "> score for 'bitcoin plunges in value after manic upward swing': 0.20000000298\n"
     ]
    }
   ],
   "source": [
    "for idx, headline_text, _ in data.itertuples():\n",
    "    score, err = get_sentiment(headline_text)\n",
    "    if not err:\n",
    "        print(\"> score for '{}': {}\".format(headline_text, score))\n",
    "        data.loc[idx, ('sentiment',)] = score\n",
    "    else:\n",
    "        print(\"--- ERROR for '{}': {}\".format(headline_text, err))"
   ]
  },
  {
   "cell_type": "code",
   "execution_count": 77,
   "metadata": {},
   "outputs": [
    {
     "data": {
      "text/html": [
       "<div>\n",
       "<style scoped>\n",
       "    .dataframe tbody tr th:only-of-type {\n",
       "        vertical-align: middle;\n",
       "    }\n",
       "\n",
       "    .dataframe tbody tr th {\n",
       "        vertical-align: top;\n",
       "    }\n",
       "\n",
       "    .dataframe thead th {\n",
       "        text-align: right;\n",
       "    }\n",
       "</style>\n",
       "<table border=\"1\" class=\"dataframe\">\n",
       "  <thead>\n",
       "    <tr style=\"text-align: right;\">\n",
       "      <th></th>\n",
       "      <th>headline_text</th>\n",
       "      <th>sentiment</th>\n",
       "    </tr>\n",
       "    <tr>\n",
       "      <th>datetime</th>\n",
       "      <th></th>\n",
       "      <th></th>\n",
       "    </tr>\n",
       "  </thead>\n",
       "  <tbody>\n",
       "    <tr>\n",
       "      <th>2011-05-14</th>\n",
       "      <td>race call btc cup doomben</td>\n",
       "      <td>0.3</td>\n",
       "    </tr>\n",
       "    <tr>\n",
       "      <th>2012-05-09</th>\n",
       "      <td>bufferings hopes slump after btc cup draw</td>\n",
       "      <td>0.0</td>\n",
       "    </tr>\n",
       "    <tr>\n",
       "      <th>2013-04-17</th>\n",
       "      <td>kohler value bitcoin gold</td>\n",
       "      <td>0.3</td>\n",
       "    </tr>\n",
       "    <tr>\n",
       "      <th>2013-05-11</th>\n",
       "      <td>cummings colt on song in btc cup</td>\n",
       "      <td>0.3</td>\n",
       "    </tr>\n",
       "    <tr>\n",
       "      <th>2013-10-26</th>\n",
       "      <td>us seizes bitcoins from man linked to silk road</td>\n",
       "      <td>-0.3</td>\n",
       "    </tr>\n",
       "  </tbody>\n",
       "</table>\n",
       "</div>"
      ],
      "text/plain": [
       "                                              headline_text  sentiment\n",
       "datetime                                                              \n",
       "2011-05-14                        race call btc cup doomben        0.3\n",
       "2012-05-09        bufferings hopes slump after btc cup draw        0.0\n",
       "2013-04-17                        kohler value bitcoin gold        0.3\n",
       "2013-05-11                 cummings colt on song in btc cup        0.3\n",
       "2013-10-26  us seizes bitcoins from man linked to silk road       -0.3"
      ]
     },
     "execution_count": 77,
     "metadata": {},
     "output_type": "execute_result"
    }
   ],
   "source": [
    "data.head()"
   ]
  },
  {
   "cell_type": "code",
   "execution_count": 78,
   "metadata": {},
   "outputs": [],
   "source": [
    "data.to_csv(OUT_FILENAME)"
   ]
  }
 ],
 "metadata": {
  "kernelspec": {
   "display_name": "Python 2",
   "language": "python",
   "name": "python2"
  },
  "language_info": {
   "codemirror_mode": {
    "name": "ipython",
    "version": 2
   },
   "file_extension": ".py",
   "mimetype": "text/x-python",
   "name": "python",
   "nbconvert_exporter": "python",
   "pygments_lexer": "ipython2",
   "version": "2.7.15"
  }
 },
 "nbformat": 4,
 "nbformat_minor": 2
}
